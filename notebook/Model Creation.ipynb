{
 "cells": [
  {
   "cell_type": "markdown",
   "id": "84c6529a",
   "metadata": {},
   "source": [
    "## 00. Imports"
   ]
  },
  {
   "cell_type": "code",
   "execution_count": 3,
   "id": "47bc7f31",
   "metadata": {},
   "outputs": [],
   "source": [
    "import pandas as pd\n",
    "import matplotlib.pyplot as plt\n",
    "import seaborn as sns\n",
    "import numpy as np\n",
    "from sklearn.linear_model import LogisticRegression\n",
    "from sklearn.model_selection import cross_val_score, train_test_split\n",
    "from sklearn.ensemble import RandomForestClassifier\n",
    "from sklearn.svm import SVC\n",
    "from sklearn.preprocessing import StandardScaler\n",
    "from sklearn.pipeline import make_pipeline\n",
    "import xgboost as xgb\n",
    "import lightgbm as lgb\n",
    "import tensorflow as tf\n",
    "from tensorflow.keras import layers, models\n",
    "from tensorflow.keras.models import Sequential\n",
    "from sklearn.preprocessing import MinMaxScaler"
   ]
  },
  {
   "cell_type": "markdown",
   "id": "953c366f",
   "metadata": {},
   "source": [
    "## 01. Loading MEFAR PreProcessed DataSet"
   ]
  },
  {
   "cell_type": "code",
   "execution_count": 2,
   "id": "e1e86585",
   "metadata": {},
   "outputs": [],
   "source": [
    "MEFAR_MID = pd.read_csv('../raw_data//MEFAR_preprocessed/MEFAR_MID.csv')\n"
   ]
  },
  {
   "cell_type": "markdown",
   "id": "99c1a248",
   "metadata": {},
   "source": [
    "## 02. Creating Time-Window Data"
   ]
  },
  {
   "cell_type": "code",
   "execution_count": null,
   "id": "86b71221",
   "metadata": {},
   "outputs": [],
   "source": [
    "from sklearn.preprocessing import MinMaxScaler\n",
    "import numpy as np\n",
    "\n",
    "sampling_rate = 32\n",
    "window_seconds = 10  # 10 seconds of data = 320 rows\n",
    "window_size = sampling_rate * window_seconds\n",
    "stride = int(window_size * 0.5)  # 50% overlap = 5s shift\n"
   ]
  },
  {
   "cell_type": "code",
   "execution_count": null,
   "id": "8b4c9931",
   "metadata": {},
   "outputs": [],
   "source": [
    "\n",
    "X_windows, y_windows, session_ids = [], [], []\n",
    "\n",
    "for _, row in session_map.iterrows():  # Iterate over each session\n",
    "    session_id = row['session_id']\n",
    "    start = int(row['start_index'])\n",
    "    end = int(row['end_index'])\n",
    "\n",
    "    X_session = X.iloc[start:end].values\n",
    "    y_session = y.iloc[start:end].values\n",
    "\n",
    "    for i in range(0, len(X_session) - window_size + 1, stride):\n",
    "        window = X_session[i:i + window_size]\n",
    "        label_window = y_session[i:i + window_size]\n",
    "\n",
    "        # Majority vote label\n",
    "        majority_label = int(label_window.mean() > 0.5)\n",
    "\n",
    "        X_windows.append(window)\n",
    "        y_windows.append(majority_label)\n",
    "        session_ids.append(session_id)\n",
    "\n",
    "# Convert to numpy arrays\n",
    "X_windows = np.array(X_windows)\n",
    "y_windows = np.array(y_windows)\n",
    "session_ids = np.array(session_ids)\n",
    "\n",
    "# # Normalize per window (optional, test impact)\n",
    "# X_norm = np.array([MinMaxScaler().fit_transform(window) for window in X_windows])"
   ]
  },
  {
   "cell_type": "code",
   "execution_count": null,
   "id": "9a8e81a9",
   "metadata": {},
   "outputs": [],
   "source": [
    "from sklearn.preprocessing import MinMaxScaler\n",
    "import numpy as np\n",
    "\n",
    "# Define sampling and windowing parameters\n",
    "sampling_rate = 32                     # MEFAR data has 32 samples per second\n",
    "window_seconds = 10                    # Each window covers 10 seconds\n",
    "window_size = sampling_rate * window_seconds  # 320 samples per window\n",
    "stride = int(window_size * 0.5)        # 50% overlap between windows → 5s step\n",
    "\n",
    "# Lists to store results\n",
    "X_windows, y_windows, session_ids = [], [], []\n",
    "\n",
    "# Loop through each session defined in session_map\n",
    "for _, row in session_map.iterrows():\n",
    "    session_id = row['session_id']               # Session identifier\n",
    "    start = int(row['start_index'])              # Start index of session in full dataset\n",
    "    end = int(row['end_index'])                  # End index of session\n",
    "\n",
    "    # Extract the features and labels for this session\n",
    "    X_session = X.iloc[start:end].values         # Shape: (session_length, num_features)\n",
    "    y_session = y.iloc[start:end].values         # Shape: (session_length,)\n",
    "\n",
    "    # Slide window through session using defined stride\n",
    "    for i in range(0, len(X_session) - window_size + 1, stride):\n",
    "        # Extract the feature window and corresponding label window\n",
    "        window = X_session[i:i + window_size]          # Shape: (320, num_features)\n",
    "        label_window = y_session[i:i + window_size]    # Shape: (320,)\n",
    "\n",
    "        # ✅ Assign label based on majority vote in the 10s window\n",
    "        # If more than 50% of samples in the window are \"1\" (fatigued), label the window as fatigued\n",
    "        majority_label = int(label_window.mean() > 0.5)\n",
    "\n",
    "        # Store results\n",
    "        X_windows.append(window)\n",
    "        y_windows.append(majority_label)\n",
    "        session_ids.append(session_id)\n",
    "\n",
    "# Convert lists to numpy arrays for modeling\n",
    "X_windows = np.array(X_windows)       # Shape: (num_windows, 320, num_features)\n",
    "y_windows = np.array(y_windows)       # Shape: (num_windows,)\n",
    "session_ids = np.array(session_ids)   # Shape: (num_windows,)\n",
    "\n",
    "# Optional: Normalize each window individually using min-max scaling\n",
    "# This ensures each feature in each window is scaled to [0, 1] based on its own min/max\n",
    "X_norm = np.array([MinMaxScaler().fit_transform(window) for window in X_windows])"
   ]
  }
 ],
 "metadata": {
  "kernelspec": {
   "display_name": "Neurocheck",
   "language": "python",
   "name": "python3"
  },
  "language_info": {
   "codemirror_mode": {
    "name": "ipython",
    "version": 3
   },
   "file_extension": ".py",
   "mimetype": "text/x-python",
   "name": "python",
   "nbconvert_exporter": "python",
   "pygments_lexer": "ipython3",
   "version": "3.10.6"
  }
 },
 "nbformat": 4,
 "nbformat_minor": 5
}
