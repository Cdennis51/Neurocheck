{
 "cells": [
  {
   "cell_type": "markdown",
   "id": "2bc298d1-2b99-4908-a3ed-37538c0f68d3",
   "metadata": {
    "jp-MarkdownHeadingCollapsed": true
   },
   "source": [
    "## 00. Imports"
   ]
  },
  {
   "cell_type": "code",
   "execution_count": 2,
   "id": "c80d8013-32b1-4688-8dfa-11fbf780b62e",
   "metadata": {},
   "outputs": [],
   "source": [
    "import pandas as pd\n",
    "import matplotlib.pyplot as plt\n",
    "import seaborn as sns\n",
    "import numpy as np\n",
    "from sklearn.linear_model import LogisticRegression\n",
    "from sklearn.model_selection import cross_val_score, train_test_split\n",
    "from sklearn.ensemble import RandomForestClassifier\n",
    "from sklearn.svm import SVC\n",
    "from sklearn.preprocessing import StandardScaler\n",
    "from sklearn.pipeline import make_pipeline\n",
    "import xgboost as xgb\n",
    "import lightgbm as lgb\n",
    "import tensorflow as tf\n",
    "from tensorflow.keras import layers, models\n",
    "from tensorflow.keras.models import Sequential"
   ]
  },
  {
   "cell_type": "markdown",
   "id": "78dacb76-41e8-46ab-ae33-47abe7af66a3",
   "metadata": {},
   "source": [
    "## 01. Loading MEFAR PreProcessed DataSet"
   ]
  },
  {
   "cell_type": "code",
   "execution_count": 3,
   "id": "2883b8f6-a979-4ef5-8f0a-a7061381ec95",
   "metadata": {},
   "outputs": [],
   "source": [
    "MEFAR_DOWN = pd.read_csv('../raw_data//MEFAR_preprocessed/MEFAR_DOWN.csv')\n",
    "MEFAR_MID = pd.read_csv('../raw_data//MEFAR_preprocessed/MEFAR_MID.csv')\n",
    "MEFAR_UP = pd.read_csv('../raw_data//MEFAR_preprocessed/MEFAR_UP.csv')"
   ]
  },
  {
   "cell_type": "code",
   "execution_count": 15,
   "id": "7194677c",
   "metadata": {},
   "outputs": [
    {
     "data": {
      "text/html": [
       "<div>\n",
       "<style scoped>\n",
       "    .dataframe tbody tr th:only-of-type {\n",
       "        vertical-align: middle;\n",
       "    }\n",
       "\n",
       "    .dataframe tbody tr th {\n",
       "        vertical-align: top;\n",
       "    }\n",
       "\n",
       "    .dataframe thead th {\n",
       "        text-align: right;\n",
       "    }\n",
       "</style>\n",
       "<table border=\"1\" class=\"dataframe\">\n",
       "  <thead>\n",
       "    <tr style=\"text-align: right;\">\n",
       "      <th></th>\n",
       "      <th>BVP</th>\n",
       "      <th>EDA</th>\n",
       "      <th>TEMP</th>\n",
       "      <th>AccX</th>\n",
       "      <th>AccY</th>\n",
       "      <th>AccZ</th>\n",
       "      <th>HR</th>\n",
       "      <th>Delta</th>\n",
       "      <th>Theta</th>\n",
       "      <th>Alpha1</th>\n",
       "      <th>Alpha2</th>\n",
       "      <th>Beta1</th>\n",
       "      <th>Beta2</th>\n",
       "      <th>Gamma1</th>\n",
       "      <th>Gamma2</th>\n",
       "      <th>Attention</th>\n",
       "      <th>Meditation</th>\n",
       "      <th>class</th>\n",
       "    </tr>\n",
       "  </thead>\n",
       "  <tbody>\n",
       "    <tr>\n",
       "      <th>0</th>\n",
       "      <td>-0.150426</td>\n",
       "      <td>0.026215</td>\n",
       "      <td>0.778824</td>\n",
       "      <td>-0.325490</td>\n",
       "      <td>0.019608</td>\n",
       "      <td>0.388235</td>\n",
       "      <td>0.357959</td>\n",
       "      <td>0.019138</td>\n",
       "      <td>0.082949</td>\n",
       "      <td>0.017362</td>\n",
       "      <td>0.020516</td>\n",
       "      <td>0.001465</td>\n",
       "      <td>0.002844</td>\n",
       "      <td>0.021253</td>\n",
       "      <td>0.044376</td>\n",
       "      <td>0.484848</td>\n",
       "      <td>0.090909</td>\n",
       "      <td>1.0</td>\n",
       "    </tr>\n",
       "    <tr>\n",
       "      <th>1</th>\n",
       "      <td>-0.145506</td>\n",
       "      <td>0.026215</td>\n",
       "      <td>0.778824</td>\n",
       "      <td>-0.333333</td>\n",
       "      <td>-0.003922</td>\n",
       "      <td>0.388235</td>\n",
       "      <td>0.357959</td>\n",
       "      <td>0.019138</td>\n",
       "      <td>0.082949</td>\n",
       "      <td>0.017362</td>\n",
       "      <td>0.020516</td>\n",
       "      <td>0.001465</td>\n",
       "      <td>0.002844</td>\n",
       "      <td>0.021253</td>\n",
       "      <td>0.044376</td>\n",
       "      <td>0.484848</td>\n",
       "      <td>0.090909</td>\n",
       "      <td>1.0</td>\n",
       "    </tr>\n",
       "    <tr>\n",
       "      <th>2</th>\n",
       "      <td>-0.135576</td>\n",
       "      <td>0.026215</td>\n",
       "      <td>0.778824</td>\n",
       "      <td>-0.349020</td>\n",
       "      <td>-0.035294</td>\n",
       "      <td>0.333333</td>\n",
       "      <td>0.357959</td>\n",
       "      <td>0.019138</td>\n",
       "      <td>0.082949</td>\n",
       "      <td>0.017362</td>\n",
       "      <td>0.020516</td>\n",
       "      <td>0.001465</td>\n",
       "      <td>0.002844</td>\n",
       "      <td>0.021253</td>\n",
       "      <td>0.044376</td>\n",
       "      <td>0.484848</td>\n",
       "      <td>0.090909</td>\n",
       "      <td>1.0</td>\n",
       "    </tr>\n",
       "    <tr>\n",
       "      <th>3</th>\n",
       "      <td>-0.121047</td>\n",
       "      <td>0.026215</td>\n",
       "      <td>0.778824</td>\n",
       "      <td>-0.380392</td>\n",
       "      <td>-0.027451</td>\n",
       "      <td>0.356863</td>\n",
       "      <td>0.357959</td>\n",
       "      <td>0.019138</td>\n",
       "      <td>0.082949</td>\n",
       "      <td>0.017362</td>\n",
       "      <td>0.020516</td>\n",
       "      <td>0.001465</td>\n",
       "      <td>0.002844</td>\n",
       "      <td>0.021253</td>\n",
       "      <td>0.044376</td>\n",
       "      <td>0.484848</td>\n",
       "      <td>0.090909</td>\n",
       "      <td>1.0</td>\n",
       "    </tr>\n",
       "    <tr>\n",
       "      <th>4</th>\n",
       "      <td>-0.103369</td>\n",
       "      <td>0.026215</td>\n",
       "      <td>0.778824</td>\n",
       "      <td>-0.411765</td>\n",
       "      <td>-0.011765</td>\n",
       "      <td>0.411765</td>\n",
       "      <td>0.357959</td>\n",
       "      <td>0.019138</td>\n",
       "      <td>0.082949</td>\n",
       "      <td>0.017362</td>\n",
       "      <td>0.020516</td>\n",
       "      <td>0.001465</td>\n",
       "      <td>0.002844</td>\n",
       "      <td>0.021253</td>\n",
       "      <td>0.044376</td>\n",
       "      <td>0.484848</td>\n",
       "      <td>0.090909</td>\n",
       "      <td>1.0</td>\n",
       "    </tr>\n",
       "  </tbody>\n",
       "</table>\n",
       "</div>"
      ],
      "text/plain": [
       "        BVP       EDA      TEMP      AccX      AccY      AccZ        HR  \\\n",
       "0 -0.150426  0.026215  0.778824 -0.325490  0.019608  0.388235  0.357959   \n",
       "1 -0.145506  0.026215  0.778824 -0.333333 -0.003922  0.388235  0.357959   \n",
       "2 -0.135576  0.026215  0.778824 -0.349020 -0.035294  0.333333  0.357959   \n",
       "3 -0.121047  0.026215  0.778824 -0.380392 -0.027451  0.356863  0.357959   \n",
       "4 -0.103369  0.026215  0.778824 -0.411765 -0.011765  0.411765  0.357959   \n",
       "\n",
       "      Delta     Theta    Alpha1    Alpha2     Beta1     Beta2    Gamma1  \\\n",
       "0  0.019138  0.082949  0.017362  0.020516  0.001465  0.002844  0.021253   \n",
       "1  0.019138  0.082949  0.017362  0.020516  0.001465  0.002844  0.021253   \n",
       "2  0.019138  0.082949  0.017362  0.020516  0.001465  0.002844  0.021253   \n",
       "3  0.019138  0.082949  0.017362  0.020516  0.001465  0.002844  0.021253   \n",
       "4  0.019138  0.082949  0.017362  0.020516  0.001465  0.002844  0.021253   \n",
       "\n",
       "     Gamma2   Attention   Meditation  class  \n",
       "0  0.044376    0.484848     0.090909    1.0  \n",
       "1  0.044376    0.484848     0.090909    1.0  \n",
       "2  0.044376    0.484848     0.090909    1.0  \n",
       "3  0.044376    0.484848     0.090909    1.0  \n",
       "4  0.044376    0.484848     0.090909    1.0  "
      ]
     },
     "execution_count": 15,
     "metadata": {},
     "output_type": "execute_result"
    }
   ],
   "source": [
    "MEFAR_MID.head()"
   ]
  },
  {
   "cell_type": "markdown",
   "id": "c637fd5e",
   "metadata": {},
   "source": [
    "## 02. Data Exploration & Visualization"
   ]
  },
  {
   "cell_type": "code",
   "execution_count": 4,
   "id": "03003d44",
   "metadata": {},
   "outputs": [
    {
     "data": {
      "text/html": [
       "<div>\n",
       "<style scoped>\n",
       "    .dataframe tbody tr th:only-of-type {\n",
       "        vertical-align: middle;\n",
       "    }\n",
       "\n",
       "    .dataframe tbody tr th {\n",
       "        vertical-align: top;\n",
       "    }\n",
       "\n",
       "    .dataframe thead th {\n",
       "        text-align: right;\n",
       "    }\n",
       "</style>\n",
       "<table border=\"1\" class=\"dataframe\">\n",
       "  <thead>\n",
       "    <tr style=\"text-align: right;\">\n",
       "      <th></th>\n",
       "      <th>BVP</th>\n",
       "      <th>EDA</th>\n",
       "      <th>TEMP</th>\n",
       "      <th>AccX</th>\n",
       "      <th>AccY</th>\n",
       "      <th>AccZ</th>\n",
       "      <th>HR</th>\n",
       "      <th>Delta</th>\n",
       "      <th>Theta</th>\n",
       "      <th>Alpha1</th>\n",
       "      <th>Alpha2</th>\n",
       "      <th>Beta1</th>\n",
       "      <th>Beta2</th>\n",
       "      <th>Gamma1</th>\n",
       "      <th>Gamma2</th>\n",
       "      <th>Attention</th>\n",
       "      <th>Meditation</th>\n",
       "      <th>class</th>\n",
       "    </tr>\n",
       "  </thead>\n",
       "  <tbody>\n",
       "    <tr>\n",
       "      <th>0</th>\n",
       "      <td>0.009990</td>\n",
       "      <td>-0.023451</td>\n",
       "      <td>0.778824</td>\n",
       "      <td>-0.145540</td>\n",
       "      <td>-0.127273</td>\n",
       "      <td>0.371179</td>\n",
       "      <td>0.352246</td>\n",
       "      <td>0.019138</td>\n",
       "      <td>0.082949</td>\n",
       "      <td>0.017362</td>\n",
       "      <td>0.020516</td>\n",
       "      <td>0.001465</td>\n",
       "      <td>0.002844</td>\n",
       "      <td>0.021253</td>\n",
       "      <td>0.044376</td>\n",
       "      <td>0.484848</td>\n",
       "      <td>0.090909</td>\n",
       "      <td>1.0</td>\n",
       "    </tr>\n",
       "    <tr>\n",
       "      <th>1</th>\n",
       "      <td>0.007775</td>\n",
       "      <td>-0.050473</td>\n",
       "      <td>0.778824</td>\n",
       "      <td>-0.145540</td>\n",
       "      <td>-0.127273</td>\n",
       "      <td>0.379913</td>\n",
       "      <td>0.357959</td>\n",
       "      <td>0.016627</td>\n",
       "      <td>0.018269</td>\n",
       "      <td>0.000885</td>\n",
       "      <td>0.007088</td>\n",
       "      <td>0.009263</td>\n",
       "      <td>0.005343</td>\n",
       "      <td>0.001643</td>\n",
       "      <td>0.008448</td>\n",
       "      <td>0.040404</td>\n",
       "      <td>0.444444</td>\n",
       "      <td>1.0</td>\n",
       "    </tr>\n",
       "    <tr>\n",
       "      <th>2</th>\n",
       "      <td>-0.070514</td>\n",
       "      <td>-0.069910</td>\n",
       "      <td>0.778824</td>\n",
       "      <td>-0.136150</td>\n",
       "      <td>-0.100000</td>\n",
       "      <td>0.388646</td>\n",
       "      <td>0.363152</td>\n",
       "      <td>0.042245</td>\n",
       "      <td>0.000499</td>\n",
       "      <td>0.000753</td>\n",
       "      <td>0.000366</td>\n",
       "      <td>0.268484</td>\n",
       "      <td>0.002063</td>\n",
       "      <td>0.068640</td>\n",
       "      <td>0.001032</td>\n",
       "      <td>0.010101</td>\n",
       "      <td>0.545455</td>\n",
       "      <td>1.0</td>\n",
       "    </tr>\n",
       "    <tr>\n",
       "      <th>3</th>\n",
       "      <td>0.028787</td>\n",
       "      <td>-0.068803</td>\n",
       "      <td>0.781176</td>\n",
       "      <td>-0.333333</td>\n",
       "      <td>-0.072727</td>\n",
       "      <td>-0.406114</td>\n",
       "      <td>0.368476</td>\n",
       "      <td>0.047853</td>\n",
       "      <td>0.005451</td>\n",
       "      <td>0.094100</td>\n",
       "      <td>0.001209</td>\n",
       "      <td>0.009866</td>\n",
       "      <td>0.085111</td>\n",
       "      <td>0.560372</td>\n",
       "      <td>0.036195</td>\n",
       "      <td>0.464646</td>\n",
       "      <td>0.888889</td>\n",
       "      <td>1.0</td>\n",
       "    </tr>\n",
       "    <tr>\n",
       "      <th>4</th>\n",
       "      <td>-0.097677</td>\n",
       "      <td>-0.118167</td>\n",
       "      <td>0.774118</td>\n",
       "      <td>-0.333333</td>\n",
       "      <td>-0.109091</td>\n",
       "      <td>-0.353712</td>\n",
       "      <td>0.373929</td>\n",
       "      <td>0.078491</td>\n",
       "      <td>0.027422</td>\n",
       "      <td>0.004414</td>\n",
       "      <td>0.000444</td>\n",
       "      <td>0.009305</td>\n",
       "      <td>0.001604</td>\n",
       "      <td>0.005226</td>\n",
       "      <td>0.000079</td>\n",
       "      <td>0.363636</td>\n",
       "      <td>0.242424</td>\n",
       "      <td>1.0</td>\n",
       "    </tr>\n",
       "  </tbody>\n",
       "</table>\n",
       "</div>"
      ],
      "text/plain": [
       "        BVP       EDA      TEMP      AccX      AccY      AccZ        HR  \\\n",
       "0  0.009990 -0.023451  0.778824 -0.145540 -0.127273  0.371179  0.352246   \n",
       "1  0.007775 -0.050473  0.778824 -0.145540 -0.127273  0.379913  0.357959   \n",
       "2 -0.070514 -0.069910  0.778824 -0.136150 -0.100000  0.388646  0.363152   \n",
       "3  0.028787 -0.068803  0.781176 -0.333333 -0.072727 -0.406114  0.368476   \n",
       "4 -0.097677 -0.118167  0.774118 -0.333333 -0.109091 -0.353712  0.373929   \n",
       "\n",
       "      Delta     Theta    Alpha1    Alpha2     Beta1     Beta2    Gamma1  \\\n",
       "0  0.019138  0.082949  0.017362  0.020516  0.001465  0.002844  0.021253   \n",
       "1  0.016627  0.018269  0.000885  0.007088  0.009263  0.005343  0.001643   \n",
       "2  0.042245  0.000499  0.000753  0.000366  0.268484  0.002063  0.068640   \n",
       "3  0.047853  0.005451  0.094100  0.001209  0.009866  0.085111  0.560372   \n",
       "4  0.078491  0.027422  0.004414  0.000444  0.009305  0.001604  0.005226   \n",
       "\n",
       "     Gamma2   Attention   Meditation  class  \n",
       "0  0.044376    0.484848     0.090909    1.0  \n",
       "1  0.008448    0.040404     0.444444    1.0  \n",
       "2  0.001032    0.010101     0.545455    1.0  \n",
       "3  0.036195    0.464646     0.888889    1.0  \n",
       "4  0.000079    0.363636     0.242424    1.0  "
      ]
     },
     "execution_count": 4,
     "metadata": {},
     "output_type": "execute_result"
    }
   ],
   "source": [
    "MEFAR_DOWN.head()"
   ]
  },
  {
   "cell_type": "code",
   "execution_count": 5,
   "id": "f41f062d",
   "metadata": {},
   "outputs": [
    {
     "data": {
      "image/png": "[encoded data removed]",
      "text/plain": [
       "<Figure size 640x480 with 1 Axes>"
      ]
     },
     "metadata": {},
     "output_type": "display_data"
    }
   ],
   "source": [
    "# Check if the data is balanced at 1Hz:\n",
    "sns.countplot(data=MEFAR_DOWN, x='class')\n",
    "plt.title(\"Mental Fatigue Class Distribution 1Hz\")\n",
    "plt.xticks([0,1],['Not Fatigued', 'Fatigued'])\n",
    "plt.show()"
   ]
  },
  {
   "cell_type": "code",
   "execution_count": 6,
   "id": "c39e1c7a",
   "metadata": {},
   "outputs": [
    {
     "data": {
      "image/png": "[encoded data removed]",
      "text/plain": [
       "<Figure size 640x480 with 1 Axes>"
      ]
     },
     "metadata": {},
     "output_type": "display_data"
    }
   ],
   "source": [
    "# Check if the data is balanced at 32Hz:\n",
    "sns.countplot(data=MEFAR_MID, x='class')\n",
    "plt.title(\"Mental Fatigue Class Distribution 32Hz\")\n",
    "plt.xticks([0,1],['Not Fatigued', 'Fatigued'])\n",
    "plt.show()"
   ]
  },
  {
   "cell_type": "code",
   "execution_count": 7,
   "id": "6295a632",
   "metadata": {},
   "outputs": [
    {
     "data": {
      "image/png": "[encoded data removed]",
      "text/plain": [
       "<Figure size 640x480 with 1 Axes>"
      ]
     },
     "metadata": {},
     "output_type": "display_data"
    }
   ],
   "source": [
    "# Check if the data is balanced at 64Hz:\n",
    "sns.countplot(data=MEFAR_UP, x='class')\n",
    "plt.title(\"Mental Fatigue Class Distribution 64Hz\")\n",
    "plt.xticks([0,1],['Not Fatigued', 'Fatigued'])\n",
    "plt.show()"
   ]
  },
  {
   "cell_type": "code",
   "execution_count": 8,
   "id": "6de9e7bd",
   "metadata": {},
   "outputs": [
    {
     "data": {
      "image/png": "[encoded data removed]",
      "text/plain": [
       "<Figure size 2400x800 with 3 Axes>"
      ]
     },
     "metadata": {},
     "output_type": "display_data"
    }
   ],
   "source": [
    "\n",
    "# Set up the figure and subplots\n",
    "fig, axes = plt.subplots(1, 3, figsize=(24, 8))\n",
    "\n",
    "# Correlation matrices\n",
    "corrs = [\n",
    "    ('MEFAR_DOWN', MEFAR_DOWN.drop(columns=['class']).corr()),\n",
    "    ('MEFAR_MID', MEFAR_MID.drop(columns=['class']).corr()),\n",
    "    ('MEFAR_UP', MEFAR_UP.drop(columns=['class']).corr())\n",
    "]\n",
    "\n",
    "# Plot each heatmap\n",
    "for ax, (title, corr) in zip(axes, corrs):\n",
    "    sns.heatmap(corr, ax=ax, cmap='coolwarm', cbar=False)\n",
    "    ax.set_title(f\"{title} Correlation Matrix\")\n",
    "\n",
    "plt.tight_layout()\n",
    "plt.show()\n"
   ]
  },
  {
   "cell_type": "markdown",
   "id": "ce0eb34a",
   "metadata": {},
   "source": [
    "## 04. Benchmark Models -32Hz:"
   ]
  },
  {
   "cell_type": "code",
   "execution_count": 16,
   "id": "2e1def67",
   "metadata": {},
   "outputs": [
    {
     "data": {
      "text/html": [
       "<div>\n",
       "<style scoped>\n",
       "    .dataframe tbody tr th:only-of-type {\n",
       "        vertical-align: middle;\n",
       "    }\n",
       "\n",
       "    .dataframe tbody tr th {\n",
       "        vertical-align: top;\n",
       "    }\n",
       "\n",
       "    .dataframe thead th {\n",
       "        text-align: right;\n",
       "    }\n",
       "</style>\n",
       "<table border=\"1\" class=\"dataframe\">\n",
       "  <thead>\n",
       "    <tr style=\"text-align: right;\">\n",
       "      <th></th>\n",
       "      <th>BVP</th>\n",
       "      <th>EDA</th>\n",
       "      <th>TEMP</th>\n",
       "      <th>AccX</th>\n",
       "      <th>AccY</th>\n",
       "      <th>AccZ</th>\n",
       "      <th>HR</th>\n",
       "      <th>Delta</th>\n",
       "      <th>Theta</th>\n",
       "      <th>Alpha1</th>\n",
       "      <th>Alpha2</th>\n",
       "      <th>Beta1</th>\n",
       "      <th>Beta2</th>\n",
       "      <th>Gamma1</th>\n",
       "      <th>Gamma2</th>\n",
       "      <th>Attention</th>\n",
       "      <th>Meditation</th>\n",
       "    </tr>\n",
       "  </thead>\n",
       "  <tbody>\n",
       "    <tr>\n",
       "      <th>0</th>\n",
       "      <td>-0.150426</td>\n",
       "      <td>0.026215</td>\n",
       "      <td>0.778824</td>\n",
       "      <td>-0.325490</td>\n",
       "      <td>0.019608</td>\n",
       "      <td>0.388235</td>\n",
       "      <td>0.357959</td>\n",
       "      <td>0.019138</td>\n",
       "      <td>0.082949</td>\n",
       "      <td>0.017362</td>\n",
       "      <td>0.020516</td>\n",
       "      <td>0.001465</td>\n",
       "      <td>0.002844</td>\n",
       "      <td>0.021253</td>\n",
       "      <td>0.044376</td>\n",
       "      <td>0.484848</td>\n",
       "      <td>0.090909</td>\n",
       "    </tr>\n",
       "    <tr>\n",
       "      <th>1</th>\n",
       "      <td>-0.145506</td>\n",
       "      <td>0.026215</td>\n",
       "      <td>0.778824</td>\n",
       "      <td>-0.333333</td>\n",
       "      <td>-0.003922</td>\n",
       "      <td>0.388235</td>\n",
       "      <td>0.357959</td>\n",
       "      <td>0.019138</td>\n",
       "      <td>0.082949</td>\n",
       "      <td>0.017362</td>\n",
       "      <td>0.020516</td>\n",
       "      <td>0.001465</td>\n",
       "      <td>0.002844</td>\n",
       "      <td>0.021253</td>\n",
       "      <td>0.044376</td>\n",
       "      <td>0.484848</td>\n",
       "      <td>0.090909</td>\n",
       "    </tr>\n",
       "    <tr>\n",
       "      <th>2</th>\n",
       "      <td>-0.135576</td>\n",
       "      <td>0.026215</td>\n",
       "      <td>0.778824</td>\n",
       "      <td>-0.349020</td>\n",
       "      <td>-0.035294</td>\n",
       "      <td>0.333333</td>\n",
       "      <td>0.357959</td>\n",
       "      <td>0.019138</td>\n",
       "      <td>0.082949</td>\n",
       "      <td>0.017362</td>\n",
       "      <td>0.020516</td>\n",
       "      <td>0.001465</td>\n",
       "      <td>0.002844</td>\n",
       "      <td>0.021253</td>\n",
       "      <td>0.044376</td>\n",
       "      <td>0.484848</td>\n",
       "      <td>0.090909</td>\n",
       "    </tr>\n",
       "    <tr>\n",
       "      <th>3</th>\n",
       "      <td>-0.121047</td>\n",
       "      <td>0.026215</td>\n",
       "      <td>0.778824</td>\n",
       "      <td>-0.380392</td>\n",
       "      <td>-0.027451</td>\n",
       "      <td>0.356863</td>\n",
       "      <td>0.357959</td>\n",
       "      <td>0.019138</td>\n",
       "      <td>0.082949</td>\n",
       "      <td>0.017362</td>\n",
       "      <td>0.020516</td>\n",
       "      <td>0.001465</td>\n",
       "      <td>0.002844</td>\n",
       "      <td>0.021253</td>\n",
       "      <td>0.044376</td>\n",
       "      <td>0.484848</td>\n",
       "      <td>0.090909</td>\n",
       "    </tr>\n",
       "    <tr>\n",
       "      <th>4</th>\n",
       "      <td>-0.103369</td>\n",
       "      <td>0.026215</td>\n",
       "      <td>0.778824</td>\n",
       "      <td>-0.411765</td>\n",
       "      <td>-0.011765</td>\n",
       "      <td>0.411765</td>\n",
       "      <td>0.357959</td>\n",
       "      <td>0.019138</td>\n",
       "      <td>0.082949</td>\n",
       "      <td>0.017362</td>\n",
       "      <td>0.020516</td>\n",
       "      <td>0.001465</td>\n",
       "      <td>0.002844</td>\n",
       "      <td>0.021253</td>\n",
       "      <td>0.044376</td>\n",
       "      <td>0.484848</td>\n",
       "      <td>0.090909</td>\n",
       "    </tr>\n",
       "  </tbody>\n",
       "</table>\n",
       "</div>"
      ],
      "text/plain": [
       "        BVP       EDA      TEMP      AccX      AccY      AccZ        HR  \\\n",
       "0 -0.150426  0.026215  0.778824 -0.325490  0.019608  0.388235  0.357959   \n",
       "1 -0.145506  0.026215  0.778824 -0.333333 -0.003922  0.388235  0.357959   \n",
       "2 -0.135576  0.026215  0.778824 -0.349020 -0.035294  0.333333  0.357959   \n",
       "3 -0.121047  0.026215  0.778824 -0.380392 -0.027451  0.356863  0.357959   \n",
       "4 -0.103369  0.026215  0.778824 -0.411765 -0.011765  0.411765  0.357959   \n",
       "\n",
       "      Delta     Theta    Alpha1    Alpha2     Beta1     Beta2    Gamma1  \\\n",
       "0  0.019138  0.082949  0.017362  0.020516  0.001465  0.002844  0.021253   \n",
       "1  0.019138  0.082949  0.017362  0.020516  0.001465  0.002844  0.021253   \n",
       "2  0.019138  0.082949  0.017362  0.020516  0.001465  0.002844  0.021253   \n",
       "3  0.019138  0.082949  0.017362  0.020516  0.001465  0.002844  0.021253   \n",
       "4  0.019138  0.082949  0.017362  0.020516  0.001465  0.002844  0.021253   \n",
       "\n",
       "     Gamma2   Attention   Meditation  \n",
       "0  0.044376    0.484848     0.090909  \n",
       "1  0.044376    0.484848     0.090909  \n",
       "2  0.044376    0.484848     0.090909  \n",
       "3  0.044376    0.484848     0.090909  \n",
       "4  0.044376    0.484848     0.090909  "
      ]
     },
     "execution_count": 16,
     "metadata": {},
     "output_type": "execute_result"
    }
   ],
   "source": [
    "# Set the X and y variable:\n",
    "X = MEFAR_MID.drop(columns=['class'])\n",
    "y = MEFAR_MID['class']\n",
    "X.head()\n"
   ]
  },
  {
   "cell_type": "code",
   "execution_count": 13,
   "id": "f79e2d2d",
   "metadata": {},
   "outputs": [
    {
     "data": {
      "text/html": [
       "<div>\n",
       "<style scoped>\n",
       "    .dataframe tbody tr th:only-of-type {\n",
       "        vertical-align: middle;\n",
       "    }\n",
       "\n",
       "    .dataframe tbody tr th {\n",
       "        vertical-align: top;\n",
       "    }\n",
       "\n",
       "    .dataframe thead th {\n",
       "        text-align: right;\n",
       "    }\n",
       "</style>\n",
       "<table border=\"1\" class=\"dataframe\">\n",
       "  <thead>\n",
       "    <tr style=\"text-align: right;\">\n",
       "      <th></th>\n",
       "      <th>BVP</th>\n",
       "      <th>EDA</th>\n",
       "      <th>TEMP</th>\n",
       "      <th>AccX</th>\n",
       "      <th>AccY</th>\n",
       "      <th>AccZ</th>\n",
       "      <th>HR</th>\n",
       "      <th>Delta</th>\n",
       "      <th>Theta</th>\n",
       "      <th>Alpha1</th>\n",
       "      <th>Alpha2</th>\n",
       "      <th>Beta1</th>\n",
       "      <th>Beta2</th>\n",
       "      <th>Gamma1</th>\n",
       "      <th>Gamma2</th>\n",
       "      <th>Attention</th>\n",
       "      <th>Meditation</th>\n",
       "    </tr>\n",
       "  </thead>\n",
       "  <tbody>\n",
       "    <tr>\n",
       "      <th>222120</th>\n",
       "      <td>-0.141692</td>\n",
       "      <td>-0.967113</td>\n",
       "      <td>-0.049412</td>\n",
       "      <td>-0.254902</td>\n",
       "      <td>0.184314</td>\n",
       "      <td>0.403922</td>\n",
       "      <td>0.230719</td>\n",
       "      <td>0.000010</td>\n",
       "      <td>0.046749</td>\n",
       "      <td>0.002258</td>\n",
       "      <td>0.051313</td>\n",
       "      <td>0.004010</td>\n",
       "      <td>0.002544</td>\n",
       "      <td>0.046550</td>\n",
       "      <td>0.002680</td>\n",
       "      <td>0.969697</td>\n",
       "      <td>0.838384</td>\n",
       "    </tr>\n",
       "    <tr>\n",
       "      <th>331441</th>\n",
       "      <td>-0.169278</td>\n",
       "      <td>-0.822453</td>\n",
       "      <td>0.150588</td>\n",
       "      <td>0.066667</td>\n",
       "      <td>-0.482353</td>\n",
       "      <td>0.129412</td>\n",
       "      <td>0.463776</td>\n",
       "      <td>0.013987</td>\n",
       "      <td>0.100655</td>\n",
       "      <td>0.019218</td>\n",
       "      <td>0.044871</td>\n",
       "      <td>0.434872</td>\n",
       "      <td>0.010123</td>\n",
       "      <td>0.038828</td>\n",
       "      <td>0.000258</td>\n",
       "      <td>0.767677</td>\n",
       "      <td>0.020202</td>\n",
       "    </tr>\n",
       "    <tr>\n",
       "      <th>607722</th>\n",
       "      <td>-0.192807</td>\n",
       "      <td>-0.964438</td>\n",
       "      <td>0.458824</td>\n",
       "      <td>-0.490196</td>\n",
       "      <td>-0.113725</td>\n",
       "      <td>0.098039</td>\n",
       "      <td>0.473513</td>\n",
       "      <td>0.002033</td>\n",
       "      <td>0.107428</td>\n",
       "      <td>0.001403</td>\n",
       "      <td>0.040398</td>\n",
       "      <td>0.000711</td>\n",
       "      <td>0.086779</td>\n",
       "      <td>0.001647</td>\n",
       "      <td>0.005499</td>\n",
       "      <td>0.808081</td>\n",
       "      <td>0.070707</td>\n",
       "    </tr>\n",
       "    <tr>\n",
       "      <th>18147</th>\n",
       "      <td>-0.144986</td>\n",
       "      <td>0.548951</td>\n",
       "      <td>0.552941</td>\n",
       "      <td>0.043137</td>\n",
       "      <td>-0.341176</td>\n",
       "      <td>0.372549</td>\n",
       "      <td>0.472864</td>\n",
       "      <td>0.065643</td>\n",
       "      <td>0.006211</td>\n",
       "      <td>0.037622</td>\n",
       "      <td>0.086969</td>\n",
       "      <td>0.139239</td>\n",
       "      <td>0.028675</td>\n",
       "      <td>0.010796</td>\n",
       "      <td>0.016909</td>\n",
       "      <td>0.050505</td>\n",
       "      <td>0.565657</td>\n",
       "    </tr>\n",
       "    <tr>\n",
       "      <th>110171</th>\n",
       "      <td>-0.178970</td>\n",
       "      <td>-0.934670</td>\n",
       "      <td>0.336471</td>\n",
       "      <td>-0.325490</td>\n",
       "      <td>-0.145098</td>\n",
       "      <td>0.388235</td>\n",
       "      <td>0.391716</td>\n",
       "      <td>0.004549</td>\n",
       "      <td>0.048929</td>\n",
       "      <td>0.013434</td>\n",
       "      <td>0.035548</td>\n",
       "      <td>0.059373</td>\n",
       "      <td>0.000543</td>\n",
       "      <td>0.188879</td>\n",
       "      <td>0.097105</td>\n",
       "      <td>0.888889</td>\n",
       "      <td>0.282828</td>\n",
       "    </tr>\n",
       "  </tbody>\n",
       "</table>\n",
       "</div>"
      ],
      "text/plain": [
       "             BVP       EDA      TEMP      AccX      AccY      AccZ        HR  \\\n",
       "222120 -0.141692 -0.967113 -0.049412 -0.254902  0.184314  0.403922  0.230719   \n",
       "331441 -0.169278 -0.822453  0.150588  0.066667 -0.482353  0.129412  0.463776   \n",
       "607722 -0.192807 -0.964438  0.458824 -0.490196 -0.113725  0.098039  0.473513   \n",
       "18147  -0.144986  0.548951  0.552941  0.043137 -0.341176  0.372549  0.472864   \n",
       "110171 -0.178970 -0.934670  0.336471 -0.325490 -0.145098  0.388235  0.391716   \n",
       "\n",
       "           Delta     Theta    Alpha1    Alpha2     Beta1     Beta2    Gamma1  \\\n",
       "222120  0.000010  0.046749  0.002258  0.051313  0.004010  0.002544  0.046550   \n",
       "331441  0.013987  0.100655  0.019218  0.044871  0.434872  0.010123  0.038828   \n",
       "607722  0.002033  0.107428  0.001403  0.040398  0.000711  0.086779  0.001647   \n",
       "18147   0.065643  0.006211  0.037622  0.086969  0.139239  0.028675  0.010796   \n",
       "110171  0.004549  0.048929  0.013434  0.035548  0.059373  0.000543  0.188879   \n",
       "\n",
       "          Gamma2   Attention   Meditation  \n",
       "222120  0.002680    0.969697     0.838384  \n",
       "331441  0.000258    0.767677     0.020202  \n",
       "607722  0.005499    0.808081     0.070707  \n",
       "18147   0.016909    0.050505     0.565657  \n",
       "110171  0.097105    0.888889     0.282828  "
      ]
     },
     "execution_count": 13,
     "metadata": {},
     "output_type": "execute_result"
    }
   ],
   "source": [
    "# Randomly sample 100 000 rows from the MEFAR MID dataset, including all features.\n",
    "X_sample = X.sample(n=100_000,random_state=42)\n",
    "y_sample = y.loc[X_sample.index]\n",
    "X_sample.head()"
   ]
  },
  {
   "cell_type": "code",
   "execution_count": 14,
   "id": "376b21a8",
   "metadata": {},
   "outputs": [
    {
     "data": {
      "text/html": [
       "<div>\n",
       "<style scoped>\n",
       "    .dataframe tbody tr th:only-of-type {\n",
       "        vertical-align: middle;\n",
       "    }\n",
       "\n",
       "    .dataframe tbody tr th {\n",
       "        vertical-align: top;\n",
       "    }\n",
       "\n",
       "    .dataframe thead th {\n",
       "        text-align: right;\n",
       "    }\n",
       "</style>\n",
       "<table border=\"1\" class=\"dataframe\">\n",
       "  <thead>\n",
       "    <tr style=\"text-align: right;\">\n",
       "      <th></th>\n",
       "      <th>Delta</th>\n",
       "      <th>Theta</th>\n",
       "      <th>Alpha1</th>\n",
       "      <th>Alpha2</th>\n",
       "      <th>Beta1</th>\n",
       "      <th>Beta2</th>\n",
       "      <th>Gamma1</th>\n",
       "      <th>Gamma2</th>\n",
       "      <th>Attention</th>\n",
       "      <th>Meditation</th>\n",
       "    </tr>\n",
       "  </thead>\n",
       "  <tbody>\n",
       "    <tr>\n",
       "      <th>222120</th>\n",
       "      <td>0.000010</td>\n",
       "      <td>0.046749</td>\n",
       "      <td>0.002258</td>\n",
       "      <td>0.051313</td>\n",
       "      <td>0.004010</td>\n",
       "      <td>0.002544</td>\n",
       "      <td>0.046550</td>\n",
       "      <td>0.002680</td>\n",
       "      <td>0.969697</td>\n",
       "      <td>0.838384</td>\n",
       "    </tr>\n",
       "    <tr>\n",
       "      <th>331441</th>\n",
       "      <td>0.013987</td>\n",
       "      <td>0.100655</td>\n",
       "      <td>0.019218</td>\n",
       "      <td>0.044871</td>\n",
       "      <td>0.434872</td>\n",
       "      <td>0.010123</td>\n",
       "      <td>0.038828</td>\n",
       "      <td>0.000258</td>\n",
       "      <td>0.767677</td>\n",
       "      <td>0.020202</td>\n",
       "    </tr>\n",
       "    <tr>\n",
       "      <th>607722</th>\n",
       "      <td>0.002033</td>\n",
       "      <td>0.107428</td>\n",
       "      <td>0.001403</td>\n",
       "      <td>0.040398</td>\n",
       "      <td>0.000711</td>\n",
       "      <td>0.086779</td>\n",
       "      <td>0.001647</td>\n",
       "      <td>0.005499</td>\n",
       "      <td>0.808081</td>\n",
       "      <td>0.070707</td>\n",
       "    </tr>\n",
       "    <tr>\n",
       "      <th>18147</th>\n",
       "      <td>0.065643</td>\n",
       "      <td>0.006211</td>\n",
       "      <td>0.037622</td>\n",
       "      <td>0.086969</td>\n",
       "      <td>0.139239</td>\n",
       "      <td>0.028675</td>\n",
       "      <td>0.010796</td>\n",
       "      <td>0.016909</td>\n",
       "      <td>0.050505</td>\n",
       "      <td>0.565657</td>\n",
       "    </tr>\n",
       "    <tr>\n",
       "      <th>110171</th>\n",
       "      <td>0.004549</td>\n",
       "      <td>0.048929</td>\n",
       "      <td>0.013434</td>\n",
       "      <td>0.035548</td>\n",
       "      <td>0.059373</td>\n",
       "      <td>0.000543</td>\n",
       "      <td>0.188879</td>\n",
       "      <td>0.097105</td>\n",
       "      <td>0.888889</td>\n",
       "      <td>0.282828</td>\n",
       "    </tr>\n",
       "  </tbody>\n",
       "</table>\n",
       "</div>"
      ],
      "text/plain": [
       "           Delta     Theta    Alpha1    Alpha2     Beta1     Beta2    Gamma1  \\\n",
       "222120  0.000010  0.046749  0.002258  0.051313  0.004010  0.002544  0.046550   \n",
       "331441  0.013987  0.100655  0.019218  0.044871  0.434872  0.010123  0.038828   \n",
       "607722  0.002033  0.107428  0.001403  0.040398  0.000711  0.086779  0.001647   \n",
       "18147   0.065643  0.006211  0.037622  0.086969  0.139239  0.028675  0.010796   \n",
       "110171  0.004549  0.048929  0.013434  0.035548  0.059373  0.000543  0.188879   \n",
       "\n",
       "          Gamma2  Attention  Meditation  \n",
       "222120  0.002680   0.969697    0.838384  \n",
       "331441  0.000258   0.767677    0.020202  \n",
       "607722  0.005499   0.808081    0.070707  \n",
       "18147   0.016909   0.050505    0.565657  \n",
       "110171  0.097105   0.888889    0.282828  "
      ]
     },
     "execution_count": 14,
     "metadata": {},
     "output_type": "execute_result"
    }
   ],
   "source": [
    "# Randomly sample 100 000 rows from the MEFAR MID dataset, including only EEG features.\n",
    "X_sample_EEG = X_sample.drop(['BVP', 'EDA', 'TEMP', 'AccX', 'AccY', 'AccZ', 'HR'], axis=1)\n",
    "X_sample_EEG.head()"
   ]
  },
  {
   "cell_type": "code",
   "execution_count": 17,
   "id": "4ec951fe",
   "metadata": {},
   "outputs": [],
   "source": [
    "# Train/Test Split Sample Set dataframe containing all features:\n",
    "X_train, X_test, y_train, y_test = train_test_split(X_sample,y_sample, test_size=0.2,random_state=42)"
   ]
  },
  {
   "cell_type": "code",
   "execution_count": 18,
   "id": "e930a5df",
   "metadata": {},
   "outputs": [],
   "source": [
    "# Train/Test Split Sample Set dataframe containing EEG features:\n",
    "X_train_EEG, X_test_EEG, y_train_EEG, y_test_EEG = train_test_split(X_sample_EEG,y_sample, test_size=0.2,random_state=42)"
   ]
  },
  {
   "cell_type": "code",
   "execution_count": 19,
   "id": "eadd69f2",
   "metadata": {},
   "outputs": [],
   "source": [
    "# Define pipeline for each Model, no preprocess as data already pre-processed.\n",
    "pipelines = {\n",
    "    \"Logistic Regression\": make_pipeline(LogisticRegression(max_iter=1000)),\n",
    "    \"Random Forest\": make_pipeline(RandomForestClassifier(n_estimators=100)),\n",
    "    \"SVM\": make_pipeline(SVC()),\n",
    "    \"XGBoost\": make_pipeline(xgb.XGBClassifier(eval_metric='logloss')),\n",
    "}"
   ]
  },
  {
   "cell_type": "code",
   "execution_count": 20,
   "id": "50f8bf44",
   "metadata": {},
   "outputs": [
    {
     "name": "stdout",
     "output_type": "stream",
     "text": [
      "Logistic Regression: 0.643 ± 0.005\n",
      "Random Forest: 0.995 ± 0.000\n",
      "SVM: 0.791 ± 0.002\n",
      "XGBoost: 0.996 ± 0.001\n"
     ]
    }
   ],
   "source": [
    "# Cross-Validation Scores for EEG dataset with all features.\n",
    "for name, pipe in pipelines.items():\n",
    "    scores = cross_val_score(pipe, X_train, y_train, cv=5, scoring='accuracy', n_jobs=-1)\n",
    "    print(f\"{name}: {scores.mean():.3f} ± {scores.std():.3f}\")"
   ]
  },
  {
   "cell_type": "markdown",
   "id": "78f85ec6",
   "metadata": {},
   "source": [
    "* **Logistic Regression** - 64%, model accuracy is modest, suggesting the data has complex relationships and a linear model can't fully capture. \n",
    "* **Random Forest & XGBoost** - 99% & 96% respectively, ensemble tree-based models suggests it captures the non-linear patterns well. Too Well? _data leakage, class imbalance. \n",
    "* **SVM** - 79% Indicates that the data is not linearly seperable, but SVM is capturing structure. \n",
    " "
   ]
  },
  {
   "cell_type": "code",
   "execution_count": 21,
   "id": "7a2575f6",
   "metadata": {},
   "outputs": [
    {
     "name": "stdout",
     "output_type": "stream",
     "text": [
      "Logistic Regression: 0.515 ± 0.001\n",
      "Random Forest: 0.956 ± 0.002\n",
      "SVM: 0.545 ± 0.005\n",
      "XGBoost: 0.805 ± 0.003\n"
     ]
    }
   ],
   "source": [
    "# Cross-Validation Scores for EEG dataset with limited features.\n",
    "for name, pipe in pipelines.items():\n",
    "    scores = cross_val_score(pipe, X_train_EEG, y_train, cv=5, scoring='accuracy', n_jobs=-1)\n",
    "    print(f\"{name}: {scores.mean():.3f} ± {scores.std():.3f}\")"
   ]
  },
  {
   "cell_type": "markdown",
   "id": "a0f8c5fd",
   "metadata": {},
   "source": [
    "## 05. Deep Learning Models -32Hz:"
   ]
  },
  {
   "cell_type": "code",
   "execution_count": 1,
   "id": "f7c7edbe",
   "metadata": {},
   "outputs": [
    {
     "ename": "NameError",
     "evalue": "name 'MEFAR_MID' is not defined",
     "output_type": "error",
     "traceback": [
      "\u001b[0;31m---------------------------------------------------------------------------\u001b[0m",
      "\u001b[0;31mNameError\u001b[0m                                 Traceback (most recent call last)",
      "Cell \u001b[0;32mIn[1], line 7\u001b[0m\n\u001b[1;32m      3\u001b[0m sampling_rate \u001b[38;5;241m=\u001b[39m \u001b[38;5;241m32\u001b[39m \u001b[38;5;66;03m# There are 32 samples per second in MEFAR_MID\u001b[39;00m\n\u001b[1;32m      4\u001b[0m timesteps \u001b[38;5;241m=\u001b[39m sampling_rate \u001b[38;5;241m*\u001b[39m window_length_sec\n\u001b[0;32m----> 7\u001b[0m n_samples \u001b[38;5;241m=\u001b[39m \u001b[38;5;28mlen\u001b[39m(\u001b[43mMEFAR_MID\u001b[49m) \u001b[38;5;241m/\u001b[39m\u001b[38;5;241m/\u001b[39m timesteps \u001b[38;5;66;03m# calculating how many full windows fit in the dataset\u001b[39;00m\n\u001b[1;32m      8\u001b[0m features \u001b[38;5;241m=\u001b[39m MEFAR_MID\u001b[38;5;241m.\u001b[39mshape[\u001b[38;5;241m1\u001b[39m]\n\u001b[1;32m     11\u001b[0m X_features \u001b[38;5;241m=\u001b[39m MEFAR_MID\u001b[38;5;241m.\u001b[39mdrop(columns\u001b[38;5;241m=\u001b[39m[\u001b[38;5;124m'\u001b[39m\u001b[38;5;124mclass\u001b[39m\u001b[38;5;124m'\u001b[39m])\n",
      "\u001b[0;31mNameError\u001b[0m: name 'MEFAR_MID' is not defined"
     ]
    }
   ],
   "source": [
    "# timesteps = sampling rate (32Hz) * window_length_in_seconds (I am selecting a 10-second window)\n",
    "window_length_sec = 10  # each window covers 10 seconds of data.\n",
    "sampling_rate = 32 # There are 32 samples per second in MEFAR_MID\n",
    "timesteps = sampling_rate * window_length_sec\n",
    "\n",
    "\n",
    "n_samples = len(MEFAR_MID) // timesteps # calculating how many full windows fit in the dataset\n",
    "features = MEFAR_MID.shape[1]\n",
    "\n",
    "\n",
    "X_features = MEFAR_MID.drop(columns=['class'])\n",
    "y_labels = MEFAR_MID['class']\n",
    "\n",
    "X_array = X_features.iloc[:n_samples * timesteps, :].values # take only the rows that fit into complete windows and convert to a numpy array.\n",
    "X_timestep = X_array.reshape(n_samples, timesteps, X_features.shape[1])  # Reshape the array to shape (n_samples, timesteps, features)"
   ]
  },
  {
   "cell_type": "code",
   "execution_count": null,
   "id": "0bae96e5",
   "metadata": {},
   "outputs": [],
   "source": [
    "# Extract the class labels as a 1D numpy array, using only the rows that fit into full windows\n",
    "labels = MEFAR_MID['class'].values[:n_samples * timesteps]\n",
    "\n",
    "# Reshape the labels to (n_samples, timesteps), so each window's labels are grouped together\n",
    "y_window = labels.reshape(n_samples, timesteps)\n",
    "# For each window, compute the average label and set to 1 (fatigued) if majority is >0.5, else 0 (not fatigued)\n",
    "y_window = (y_window.mean(axis=1) > 0.5).astype(int)"
   ]
  },
  {
   "cell_type": "code",
   "execution_count": 36,
   "id": "c90d8ff6",
   "metadata": {},
   "outputs": [
    {
     "data": {
      "text/plain": [
       "(2885, 320, 17)"
      ]
     },
     "execution_count": 36,
     "metadata": {},
     "output_type": "execute_result"
    }
   ],
   "source": [
    "X_timestep.shape"
   ]
  },
  {
   "cell_type": "code",
   "execution_count": 37,
   "id": "0725f522",
   "metadata": {},
   "outputs": [
    {
     "data": {
      "text/plain": [
       "(2885,)"
      ]
     },
     "execution_count": 37,
     "metadata": {},
     "output_type": "execute_result"
    }
   ],
   "source": [
    "y_window.shape"
   ]
  },
  {
   "cell_type": "code",
   "execution_count": 38,
   "id": "3499595f",
   "metadata": {},
   "outputs": [],
   "source": [
    "X_train_window, X_test_window, y_train_window, y_test_window = train_test_split(\n",
    "    X_timestep, y_window, test_size=0.2, stratify=y_window, random_state=42\n",
    ")"
   ]
  },
  {
   "cell_type": "code",
   "execution_count": 43,
   "id": "9fd1e75b",
   "metadata": {},
   "outputs": [
    {
     "name": "stderr",
     "output_type": "stream",
     "text": [
      "/Users/timoturnley/.pyenv/versions/3.10.6/envs/Neurocheck/lib/python3.10/site-packages/keras/src/layers/convolutional/base_conv.py:113: UserWarning: Do not pass an `input_shape`/`input_dim` argument to a layer. When using Sequential models, prefer using an `Input(shape)` object as the first layer in the model instead.\n",
      "  super().__init__(activity_regularizer=activity_regularizer, **kwargs)\n"
     ]
    },
    {
     "data": {
      "text/html": [
       "<pre style=\"white-space:pre;overflow-x:auto;line-height:normal;font-family:Menlo,'DejaVu Sans Mono',consolas,'Courier New',monospace\"><span style=\"font-weight: bold\">Model: \"sequential_1\"</span>\n",
       "</pre>\n"
      ],
      "text/plain": [
       "\u001b[1mModel: \"sequential_1\"\u001b[0m\n"
      ]
     },
     "metadata": {},
     "output_type": "display_data"
    },
    {
     "data": {
      "text/html": [
       "<pre style=\"white-space:pre;overflow-x:auto;line-height:normal;font-family:Menlo,'DejaVu Sans Mono',consolas,'Courier New',monospace\">┏━━━━━━━━━━━━━━━━━━━━━━━━━━━━━━━━━┳━━━━━━━━━━━━━━━━━━━━━━━━┳━━━━━━━━━━━━━━━┓\n",
       "┃<span style=\"font-weight: bold\"> Layer (type)                    </span>┃<span style=\"font-weight: bold\"> Output Shape           </span>┃<span style=\"font-weight: bold\">       Param # </span>┃\n",
       "┡━━━━━━━━━━━━━━━━━━━━━━━━━━━━━━━━━╇━━━━━━━━━━━━━━━━━━━━━━━━╇━━━━━━━━━━━━━━━┩\n",
       "│ conv1d_2 (<span style=\"color: #0087ff; text-decoration-color: #0087ff\">Conv1D</span>)               │ (<span style=\"color: #00d7ff; text-decoration-color: #00d7ff\">None</span>, <span style=\"color: #00af00; text-decoration-color: #00af00\">318</span>, <span style=\"color: #00af00; text-decoration-color: #00af00\">32</span>)        │         <span style=\"color: #00af00; text-decoration-color: #00af00\">1,664</span> │\n",
       "├─────────────────────────────────┼────────────────────────┼───────────────┤\n",
       "│ max_pooling1d_1 (<span style=\"color: #0087ff; text-decoration-color: #0087ff\">MaxPooling1D</span>)  │ (<span style=\"color: #00d7ff; text-decoration-color: #00d7ff\">None</span>, <span style=\"color: #00af00; text-decoration-color: #00af00\">159</span>, <span style=\"color: #00af00; text-decoration-color: #00af00\">32</span>)        │             <span style=\"color: #00af00; text-decoration-color: #00af00\">0</span> │\n",
       "├─────────────────────────────────┼────────────────────────┼───────────────┤\n",
       "│ conv1d_3 (<span style=\"color: #0087ff; text-decoration-color: #0087ff\">Conv1D</span>)               │ (<span style=\"color: #00d7ff; text-decoration-color: #00d7ff\">None</span>, <span style=\"color: #00af00; text-decoration-color: #00af00\">157</span>, <span style=\"color: #00af00; text-decoration-color: #00af00\">64</span>)        │         <span style=\"color: #00af00; text-decoration-color: #00af00\">6,208</span> │\n",
       "├─────────────────────────────────┼────────────────────────┼───────────────┤\n",
       "│ global_average_pooling1d_1      │ (<span style=\"color: #00d7ff; text-decoration-color: #00d7ff\">None</span>, <span style=\"color: #00af00; text-decoration-color: #00af00\">64</span>)             │             <span style=\"color: #00af00; text-decoration-color: #00af00\">0</span> │\n",
       "│ (<span style=\"color: #0087ff; text-decoration-color: #0087ff\">GlobalAveragePooling1D</span>)        │                        │               │\n",
       "├─────────────────────────────────┼────────────────────────┼───────────────┤\n",
       "│ dense_2 (<span style=\"color: #0087ff; text-decoration-color: #0087ff\">Dense</span>)                 │ (<span style=\"color: #00d7ff; text-decoration-color: #00d7ff\">None</span>, <span style=\"color: #00af00; text-decoration-color: #00af00\">32</span>)             │         <span style=\"color: #00af00; text-decoration-color: #00af00\">2,080</span> │\n",
       "├─────────────────────────────────┼────────────────────────┼───────────────┤\n",
       "│ dense_3 (<span style=\"color: #0087ff; text-decoration-color: #0087ff\">Dense</span>)                 │ (<span style=\"color: #00d7ff; text-decoration-color: #00d7ff\">None</span>, <span style=\"color: #00af00; text-decoration-color: #00af00\">1</span>)              │            <span style=\"color: #00af00; text-decoration-color: #00af00\">33</span> │\n",
       "└─────────────────────────────────┴────────────────────────┴───────────────┘\n",
       "</pre>\n"
      ],
      "text/plain": [
       "┏━━━━━━━━━━━━━━━━━━━━━━━━━━━━━━━━━┳━━━━━━━━━━━━━━━━━━━━━━━━┳━━━━━━━━━━━━━━━┓\n",
       "┃\u001b[1m \u001b[0m\u001b[1mLayer (type)                   \u001b[0m\u001b[1m \u001b[0m┃\u001b[1m \u001b[0m\u001b[1mOutput Shape          \u001b[0m\u001b[1m \u001b[0m┃\u001b[1m \u001b[0m\u001b[1m      Param #\u001b[0m\u001b[1m \u001b[0m┃\n",
       "┡━━━━━━━━━━━━━━━━━━━━━━━━━━━━━━━━━╇━━━━━━━━━━━━━━━━━━━━━━━━╇━━━━━━━━━━━━━━━┩\n",
       "│ conv1d_2 (\u001b[38;5;33mConv1D\u001b[0m)               │ (\u001b[38;5;45mNone\u001b[0m, \u001b[38;5;34m318\u001b[0m, \u001b[38;5;34m32\u001b[0m)        │         \u001b[38;5;34m1,664\u001b[0m │\n",
       "├─────────────────────────────────┼────────────────────────┼───────────────┤\n",
       "│ max_pooling1d_1 (\u001b[38;5;33mMaxPooling1D\u001b[0m)  │ (\u001b[38;5;45mNone\u001b[0m, \u001b[38;5;34m159\u001b[0m, \u001b[38;5;34m32\u001b[0m)        │             \u001b[38;5;34m0\u001b[0m │\n",
       "├─────────────────────────────────┼────────────────────────┼───────────────┤\n",
       "│ conv1d_3 (\u001b[38;5;33mConv1D\u001b[0m)               │ (\u001b[38;5;45mNone\u001b[0m, \u001b[38;5;34m157\u001b[0m, \u001b[38;5;34m64\u001b[0m)        │         \u001b[38;5;34m6,208\u001b[0m │\n",
       "├─────────────────────────────────┼────────────────────────┼───────────────┤\n",
       "│ global_average_pooling1d_1      │ (\u001b[38;5;45mNone\u001b[0m, \u001b[38;5;34m64\u001b[0m)             │             \u001b[38;5;34m0\u001b[0m │\n",
       "│ (\u001b[38;5;33mGlobalAveragePooling1D\u001b[0m)        │                        │               │\n",
       "├─────────────────────────────────┼────────────────────────┼───────────────┤\n",
       "│ dense_2 (\u001b[38;5;33mDense\u001b[0m)                 │ (\u001b[38;5;45mNone\u001b[0m, \u001b[38;5;34m32\u001b[0m)             │         \u001b[38;5;34m2,080\u001b[0m │\n",
       "├─────────────────────────────────┼────────────────────────┼───────────────┤\n",
       "│ dense_3 (\u001b[38;5;33mDense\u001b[0m)                 │ (\u001b[38;5;45mNone\u001b[0m, \u001b[38;5;34m1\u001b[0m)              │            \u001b[38;5;34m33\u001b[0m │\n",
       "└─────────────────────────────────┴────────────────────────┴───────────────┘\n"
      ]
     },
     "metadata": {},
     "output_type": "display_data"
    },
    {
     "data": {
      "text/html": [
       "<pre style=\"white-space:pre;overflow-x:auto;line-height:normal;font-family:Menlo,'DejaVu Sans Mono',consolas,'Courier New',monospace\"><span style=\"font-weight: bold\"> Total params: </span><span style=\"color: #00af00; text-decoration-color: #00af00\">9,985</span> (39.00 KB)\n",
       "</pre>\n"
      ],
      "text/plain": [
       "\u001b[1m Total params: \u001b[0m\u001b[38;5;34m9,985\u001b[0m (39.00 KB)\n"
      ]
     },
     "metadata": {},
     "output_type": "display_data"
    },
    {
     "data": {
      "text/html": [
       "<pre style=\"white-space:pre;overflow-x:auto;line-height:normal;font-family:Menlo,'DejaVu Sans Mono',consolas,'Courier New',monospace\"><span style=\"font-weight: bold\"> Trainable params: </span><span style=\"color: #00af00; text-decoration-color: #00af00\">9,985</span> (39.00 KB)\n",
       "</pre>\n"
      ],
      "text/plain": [
       "\u001b[1m Trainable params: \u001b[0m\u001b[38;5;34m9,985\u001b[0m (39.00 KB)\n"
      ]
     },
     "metadata": {},
     "output_type": "display_data"
    },
    {
     "data": {
      "text/html": [
       "<pre style=\"white-space:pre;overflow-x:auto;line-height:normal;font-family:Menlo,'DejaVu Sans Mono',consolas,'Courier New',monospace\"><span style=\"font-weight: bold\"> Non-trainable params: </span><span style=\"color: #00af00; text-decoration-color: #00af00\">0</span> (0.00 B)\n",
       "</pre>\n"
      ],
      "text/plain": [
       "\u001b[1m Non-trainable params: \u001b[0m\u001b[38;5;34m0\u001b[0m (0.00 B)\n"
      ]
     },
     "metadata": {},
     "output_type": "display_data"
    },
    {
     "name": "stdout",
     "output_type": "stream",
     "text": [
      "Epoch 1/30\n",
      "\u001b[1m37/37\u001b[0m \u001b[32m━━━━━━━━━━━━━━━━━━━━\u001b[0m\u001b[37m\u001b[0m \u001b[1m1s\u001b[0m 8ms/step - accuracy: 0.5627 - loss: 0.6777 - val_accuracy: 0.6153 - val_loss: 0.6541\n",
      "Epoch 2/30\n",
      "\u001b[1m37/37\u001b[0m \u001b[32m━━━━━━━━━━━━━━━━━━━━\u001b[0m\u001b[37m\u001b[0m \u001b[1m0s\u001b[0m 6ms/step - accuracy: 0.6413 - loss: 0.6255 - val_accuracy: 0.6499 - val_loss: 0.6233\n",
      "Epoch 3/30\n",
      "\u001b[1m37/37\u001b[0m \u001b[32m━━━━━━━━━━━━━━━━━━━━\u001b[0m\u001b[37m\u001b[0m \u001b[1m0s\u001b[0m 6ms/step - accuracy: 0.6584 - loss: 0.6037 - val_accuracy: 0.6932 - val_loss: 0.5841\n",
      "Epoch 4/30\n",
      "\u001b[1m37/37\u001b[0m \u001b[32m━━━━━━━━━━━━━━━━━━━━\u001b[0m\u001b[37m\u001b[0m \u001b[1m0s\u001b[0m 6ms/step - accuracy: 0.6938 - loss: 0.5672 - val_accuracy: 0.7019 - val_loss: 0.5564\n",
      "Epoch 5/30\n",
      "\u001b[1m37/37\u001b[0m \u001b[32m━━━━━━━━━━━━━━━━━━━━\u001b[0m\u001b[37m\u001b[0m \u001b[1m0s\u001b[0m 6ms/step - accuracy: 0.7170 - loss: 0.5338 - val_accuracy: 0.7123 - val_loss: 0.5549\n",
      "Epoch 6/30\n",
      "\u001b[1m37/37\u001b[0m \u001b[32m━━━━━━━━━━━━━━━━━━━━\u001b[0m\u001b[37m\u001b[0m \u001b[1m0s\u001b[0m 6ms/step - accuracy: 0.7335 - loss: 0.5188 - val_accuracy: 0.7192 - val_loss: 0.5408\n",
      "Epoch 7/30\n",
      "\u001b[1m37/37\u001b[0m \u001b[32m━━━━━━━━━━━━━━━━━━━━\u001b[0m\u001b[37m\u001b[0m \u001b[1m0s\u001b[0m 6ms/step - accuracy: 0.7471 - loss: 0.5131 - val_accuracy: 0.7730 - val_loss: 0.4974\n",
      "Epoch 8/30\n",
      "\u001b[1m37/37\u001b[0m \u001b[32m━━━━━━━━━━━━━━━━━━━━\u001b[0m\u001b[37m\u001b[0m \u001b[1m0s\u001b[0m 6ms/step - accuracy: 0.7651 - loss: 0.4835 - val_accuracy: 0.7487 - val_loss: 0.4951\n",
      "Epoch 9/30\n",
      "\u001b[1m37/37\u001b[0m \u001b[32m━━━━━━━━━━━━━━━━━━━━\u001b[0m\u001b[37m\u001b[0m \u001b[1m0s\u001b[0m 6ms/step - accuracy: 0.7764 - loss: 0.4646 - val_accuracy: 0.7643 - val_loss: 0.4856\n",
      "Epoch 10/30\n",
      "\u001b[1m37/37\u001b[0m \u001b[32m━━━━━━━━━━━━━━━━━━━━\u001b[0m\u001b[37m\u001b[0m \u001b[1m0s\u001b[0m 6ms/step - accuracy: 0.7648 - loss: 0.4634 - val_accuracy: 0.7660 - val_loss: 0.4795\n",
      "Epoch 11/30\n",
      "\u001b[1m37/37\u001b[0m \u001b[32m━━━━━━━━━━━━━━━━━━━━\u001b[0m\u001b[37m\u001b[0m \u001b[1m0s\u001b[0m 6ms/step - accuracy: 0.7721 - loss: 0.4656 - val_accuracy: 0.7660 - val_loss: 0.4794\n",
      "Epoch 12/30\n",
      "\u001b[1m37/37\u001b[0m \u001b[32m━━━━━━━━━━━━━━━━━━━━\u001b[0m\u001b[37m\u001b[0m \u001b[1m0s\u001b[0m 6ms/step - accuracy: 0.7769 - loss: 0.4548 - val_accuracy: 0.7574 - val_loss: 0.4856\n",
      "Epoch 13/30\n",
      "\u001b[1m37/37\u001b[0m \u001b[32m━━━━━━━━━━━━━━━━━━━━\u001b[0m\u001b[37m\u001b[0m \u001b[1m0s\u001b[0m 6ms/step - accuracy: 0.7709 - loss: 0.4527 - val_accuracy: 0.7851 - val_loss: 0.4566\n",
      "Epoch 14/30\n",
      "\u001b[1m37/37\u001b[0m \u001b[32m━━━━━━━━━━━━━━━━━━━━\u001b[0m\u001b[37m\u001b[0m \u001b[1m0s\u001b[0m 6ms/step - accuracy: 0.7986 - loss: 0.4145 - val_accuracy: 0.7764 - val_loss: 0.4590\n",
      "Epoch 15/30\n",
      "\u001b[1m37/37\u001b[0m \u001b[32m━━━━━━━━━━━━━━━━━━━━\u001b[0m\u001b[37m\u001b[0m \u001b[1m0s\u001b[0m 7ms/step - accuracy: 0.7914 - loss: 0.4274 - val_accuracy: 0.7851 - val_loss: 0.4447\n",
      "Epoch 16/30\n",
      "\u001b[1m37/37\u001b[0m \u001b[32m━━━━━━━━━━━━━━━━━━━━\u001b[0m\u001b[37m\u001b[0m \u001b[1m0s\u001b[0m 6ms/step - accuracy: 0.7964 - loss: 0.4135 - val_accuracy: 0.7782 - val_loss: 0.4584\n",
      "Epoch 17/30\n",
      "\u001b[1m37/37\u001b[0m \u001b[32m━━━━━━━━━━━━━━━━━━━━\u001b[0m\u001b[37m\u001b[0m \u001b[1m0s\u001b[0m 6ms/step - accuracy: 0.7901 - loss: 0.4244 - val_accuracy: 0.7972 - val_loss: 0.4232\n",
      "Epoch 18/30\n",
      "\u001b[1m37/37\u001b[0m \u001b[32m━━━━━━━━━━━━━━━━━━━━\u001b[0m\u001b[37m\u001b[0m \u001b[1m0s\u001b[0m 6ms/step - accuracy: 0.7821 - loss: 0.4212 - val_accuracy: 0.7955 - val_loss: 0.4193\n",
      "Epoch 19/30\n",
      "\u001b[1m37/37\u001b[0m \u001b[32m━━━━━━━━━━━━━━━━━━━━\u001b[0m\u001b[37m\u001b[0m \u001b[1m0s\u001b[0m 6ms/step - accuracy: 0.7968 - loss: 0.3976 - val_accuracy: 0.7886 - val_loss: 0.4498\n",
      "Epoch 20/30\n",
      "\u001b[1m37/37\u001b[0m \u001b[32m━━━━━━━━━━━━━━━━━━━━\u001b[0m\u001b[37m\u001b[0m \u001b[1m0s\u001b[0m 6ms/step - accuracy: 0.7976 - loss: 0.4152 - val_accuracy: 0.7972 - val_loss: 0.4139\n",
      "Epoch 21/30\n",
      "\u001b[1m37/37\u001b[0m \u001b[32m━━━━━━━━━━━━━━━━━━━━\u001b[0m\u001b[37m\u001b[0m \u001b[1m0s\u001b[0m 6ms/step - accuracy: 0.8055 - loss: 0.3847 - val_accuracy: 0.8024 - val_loss: 0.4227\n",
      "Epoch 22/30\n",
      "\u001b[1m37/37\u001b[0m \u001b[32m━━━━━━━━━━━━━━━━━━━━\u001b[0m\u001b[37m\u001b[0m \u001b[1m0s\u001b[0m 6ms/step - accuracy: 0.7900 - loss: 0.3968 - val_accuracy: 0.7938 - val_loss: 0.4470\n",
      "Epoch 23/30\n",
      "\u001b[1m37/37\u001b[0m \u001b[32m━━━━━━━━━━━━━━━━━━━━\u001b[0m\u001b[37m\u001b[0m \u001b[1m0s\u001b[0m 6ms/step - accuracy: 0.8025 - loss: 0.4025 - val_accuracy: 0.8042 - val_loss: 0.4230\n",
      "Epoch 24/30\n",
      "\u001b[1m37/37\u001b[0m \u001b[32m━━━━━━━━━━━━━━━━━━━━\u001b[0m\u001b[37m\u001b[0m \u001b[1m0s\u001b[0m 6ms/step - accuracy: 0.8206 - loss: 0.3620 - val_accuracy: 0.8094 - val_loss: 0.4021\n",
      "Epoch 25/30\n",
      "\u001b[1m37/37\u001b[0m \u001b[32m━━━━━━━━━━━━━━━━━━━━\u001b[0m\u001b[37m\u001b[0m \u001b[1m0s\u001b[0m 6ms/step - accuracy: 0.8188 - loss: 0.3759 - val_accuracy: 0.8076 - val_loss: 0.4016\n",
      "Epoch 26/30\n",
      "\u001b[1m37/37\u001b[0m \u001b[32m━━━━━━━━━━━━━━━━━━━━\u001b[0m\u001b[37m\u001b[0m \u001b[1m0s\u001b[0m 6ms/step - accuracy: 0.8312 - loss: 0.3603 - val_accuracy: 0.7886 - val_loss: 0.4341\n",
      "Epoch 27/30\n",
      "\u001b[1m37/37\u001b[0m \u001b[32m━━━━━━━━━━━━━━━━━━━━\u001b[0m\u001b[37m\u001b[0m \u001b[1m0s\u001b[0m 7ms/step - accuracy: 0.8287 - loss: 0.3686 - val_accuracy: 0.8024 - val_loss: 0.4024\n",
      "Epoch 28/30\n",
      "\u001b[1m37/37\u001b[0m \u001b[32m━━━━━━━━━━━━━━━━━━━━\u001b[0m\u001b[37m\u001b[0m \u001b[1m0s\u001b[0m 6ms/step - accuracy: 0.8232 - loss: 0.3602 - val_accuracy: 0.8146 - val_loss: 0.3863\n",
      "Epoch 29/30\n",
      "\u001b[1m37/37\u001b[0m \u001b[32m━━━━━━━━━━━━━━━━━━━━\u001b[0m\u001b[37m\u001b[0m \u001b[1m0s\u001b[0m 6ms/step - accuracy: 0.8205 - loss: 0.3404 - val_accuracy: 0.8042 - val_loss: 0.4006\n",
      "Epoch 30/30\n",
      "\u001b[1m37/37\u001b[0m \u001b[32m━━━━━━━━━━━━━━━━━━━━\u001b[0m\u001b[37m\u001b[0m \u001b[1m0s\u001b[0m 6ms/step - accuracy: 0.8171 - loss: 0.3784 - val_accuracy: 0.8059 - val_loss: 0.3982\n"
     ]
    }
   ],
   "source": [
    "# 1D Convolutional Neural Network (CNN) for Time Series.\n",
    "# Get the number of time steps per window from training data shape\n",
    "timesteps = X_train_window.shape[1]     # 320 (10 seconds at 32 Hz)\n",
    "\n",
    "# Get the number of channels (features) per time step from training data shape\n",
    "n_channels = X_train_window.shape[2]    # 17  features per sample\n",
    "\n",
    "# Define the 1D Convolutional Neural Network architecture\n",
    "model = models.Sequential([\n",
    "\n",
    "    # First 1D convolutional layer:\n",
    "    # - 32 filters\n",
    "    # - Kernel size of 3 (looks at 3 time steps at a time)\n",
    "    # - 'relu' activation function for non-linearity\n",
    "    # - Input shape expects (timesteps, n_channels)\n",
    "    layers.Conv1D(32, kernel_size=3, activation='relu', input_shape=(timesteps, n_channels)),\n",
    "\n",
    "    # Max pooling layer to downsample the output by taking the max value over each window of 2 time steps\n",
    "    layers.MaxPooling1D(2),\n",
    "\n",
    "    # Second 1D convolutional layer:\n",
    "    # - 64 filters\n",
    "    # - Kernel size of 3\n",
    "    layers.Conv1D(64, kernel_size=3, activation='relu'),\n",
    "\n",
    "    # Global average pooling: reduces each feature map to a single value by averaging across all time steps\n",
    "    layers.GlobalAveragePooling1D(),\n",
    "\n",
    "    # Dense (fully connected) layer with 32 neurons and 'relu' activation\n",
    "    layers.Dense(32, activation='relu'),\n",
    "\n",
    "    # Output layer:\n",
    "    # - 1 neuron (for binary classification)\n",
    "    # - 'sigmoid' activation to produce probability between 0 and 1\n",
    "    layers.Dense(1, activation='sigmoid')\n",
    "])\n",
    "\n",
    "# Compile the model:\n",
    "# - 'adam' optimizer for efficient training\n",
    "# - 'binary_crossentropy' loss for binary classification\n",
    "# - Track 'accuracy' metric during training/validation\n",
    "model.compile(optimizer='adam', loss='binary_crossentropy', metrics=['accuracy'])\n",
    "\n",
    "# Print a summary of the model architecture (layers and parameter counts)\n",
    "model.summary()\n",
    "\n",
    "# Train the model:\n",
    "# - Use X_train and y_train for training data\n",
    "# - Use X_test and y_test for validation during training\n",
    "# - Run for 30 epochs\n",
    "# - Use batches of 64 samples\n",
    "history = model.fit(\n",
    "    X_train_window, y_train_window,                   # Training data\n",
    "    validation_data=(X_test_window, y_test_window),   # Validation data\n",
    "    epochs=30,                          # Number of passes through the dataset\n",
    "    batch_size=64                       # Number of samples per gradient update\n",
    ")"
   ]
  },
  {
   "cell_type": "code",
   "execution_count": 45,
   "id": "83b975b6",
   "metadata": {},
   "outputs": [
    {
     "name": "stderr",
     "output_type": "stream",
     "text": [
      "/Users/timoturnley/.pyenv/versions/3.10.6/envs/Neurocheck/lib/python3.10/site-packages/keras/src/layers/rnn/rnn.py:199: UserWarning: Do not pass an `input_shape`/`input_dim` argument to a layer. When using Sequential models, prefer using an `Input(shape)` object as the first layer in the model instead.\n",
      "  super().__init__(**kwargs)\n"
     ]
    },
    {
     "data": {
      "text/html": [
       "<pre style=\"white-space:pre;overflow-x:auto;line-height:normal;font-family:Menlo,'DejaVu Sans Mono',consolas,'Courier New',monospace\"><span style=\"font-weight: bold\">Model: \"sequential_2\"</span>\n",
       "</pre>\n"
      ],
      "text/plain": [
       "\u001b[1mModel: \"sequential_2\"\u001b[0m\n"
      ]
     },
     "metadata": {},
     "output_type": "display_data"
    },
    {
     "data": {
      "text/html": [
       "<pre style=\"white-space:pre;overflow-x:auto;line-height:normal;font-family:Menlo,'DejaVu Sans Mono',consolas,'Courier New',monospace\">┏━━━━━━━━━━━━━━━━━━━━━━━━━━━━━━━━━┳━━━━━━━━━━━━━━━━━━━━━━━━┳━━━━━━━━━━━━━━━┓\n",
       "┃<span style=\"font-weight: bold\"> Layer (type)                    </span>┃<span style=\"font-weight: bold\"> Output Shape           </span>┃<span style=\"font-weight: bold\">       Param # </span>┃\n",
       "┡━━━━━━━━━━━━━━━━━━━━━━━━━━━━━━━━━╇━━━━━━━━━━━━━━━━━━━━━━━━╇━━━━━━━━━━━━━━━┩\n",
       "│ lstm (<span style=\"color: #0087ff; text-decoration-color: #0087ff\">LSTM</span>)                     │ (<span style=\"color: #00d7ff; text-decoration-color: #00d7ff\">None</span>, <span style=\"color: #00af00; text-decoration-color: #00af00\">320</span>, <span style=\"color: #00af00; text-decoration-color: #00af00\">64</span>)        │        <span style=\"color: #00af00; text-decoration-color: #00af00\">20,992</span> │\n",
       "├─────────────────────────────────┼────────────────────────┼───────────────┤\n",
       "│ lstm_1 (<span style=\"color: #0087ff; text-decoration-color: #0087ff\">LSTM</span>)                   │ (<span style=\"color: #00d7ff; text-decoration-color: #00d7ff\">None</span>, <span style=\"color: #00af00; text-decoration-color: #00af00\">32</span>)             │        <span style=\"color: #00af00; text-decoration-color: #00af00\">12,416</span> │\n",
       "├─────────────────────────────────┼────────────────────────┼───────────────┤\n",
       "│ dense_4 (<span style=\"color: #0087ff; text-decoration-color: #0087ff\">Dense</span>)                 │ (<span style=\"color: #00d7ff; text-decoration-color: #00d7ff\">None</span>, <span style=\"color: #00af00; text-decoration-color: #00af00\">32</span>)             │         <span style=\"color: #00af00; text-decoration-color: #00af00\">1,056</span> │\n",
       "├─────────────────────────────────┼────────────────────────┼───────────────┤\n",
       "│ dense_5 (<span style=\"color: #0087ff; text-decoration-color: #0087ff\">Dense</span>)                 │ (<span style=\"color: #00d7ff; text-decoration-color: #00d7ff\">None</span>, <span style=\"color: #00af00; text-decoration-color: #00af00\">1</span>)              │            <span style=\"color: #00af00; text-decoration-color: #00af00\">33</span> │\n",
       "└─────────────────────────────────┴────────────────────────┴───────────────┘\n",
       "</pre>\n"
      ],
      "text/plain": [
       "┏━━━━━━━━━━━━━━━━━━━━━━━━━━━━━━━━━┳━━━━━━━━━━━━━━━━━━━━━━━━┳━━━━━━━━━━━━━━━┓\n",
       "┃\u001b[1m \u001b[0m\u001b[1mLayer (type)                   \u001b[0m\u001b[1m \u001b[0m┃\u001b[1m \u001b[0m\u001b[1mOutput Shape          \u001b[0m\u001b[1m \u001b[0m┃\u001b[1m \u001b[0m\u001b[1m      Param #\u001b[0m\u001b[1m \u001b[0m┃\n",
       "┡━━━━━━━━━━━━━━━━━━━━━━━━━━━━━━━━━╇━━━━━━━━━━━━━━━━━━━━━━━━╇━━━━━━━━━━━━━━━┩\n",
       "│ lstm (\u001b[38;5;33mLSTM\u001b[0m)                     │ (\u001b[38;5;45mNone\u001b[0m, \u001b[38;5;34m320\u001b[0m, \u001b[38;5;34m64\u001b[0m)        │        \u001b[38;5;34m20,992\u001b[0m │\n",
       "├─────────────────────────────────┼────────────────────────┼───────────────┤\n",
       "│ lstm_1 (\u001b[38;5;33mLSTM\u001b[0m)                   │ (\u001b[38;5;45mNone\u001b[0m, \u001b[38;5;34m32\u001b[0m)             │        \u001b[38;5;34m12,416\u001b[0m │\n",
       "├─────────────────────────────────┼────────────────────────┼───────────────┤\n",
       "│ dense_4 (\u001b[38;5;33mDense\u001b[0m)                 │ (\u001b[38;5;45mNone\u001b[0m, \u001b[38;5;34m32\u001b[0m)             │         \u001b[38;5;34m1,056\u001b[0m │\n",
       "├─────────────────────────────────┼────────────────────────┼───────────────┤\n",
       "│ dense_5 (\u001b[38;5;33mDense\u001b[0m)                 │ (\u001b[38;5;45mNone\u001b[0m, \u001b[38;5;34m1\u001b[0m)              │            \u001b[38;5;34m33\u001b[0m │\n",
       "└─────────────────────────────────┴────────────────────────┴───────────────┘\n"
      ]
     },
     "metadata": {},
     "output_type": "display_data"
    },
    {
     "data": {
      "text/html": [
       "<pre style=\"white-space:pre;overflow-x:auto;line-height:normal;font-family:Menlo,'DejaVu Sans Mono',consolas,'Courier New',monospace\"><span style=\"font-weight: bold\"> Total params: </span><span style=\"color: #00af00; text-decoration-color: #00af00\">34,497</span> (134.75 KB)\n",
       "</pre>\n"
      ],
      "text/plain": [
       "\u001b[1m Total params: \u001b[0m\u001b[38;5;34m34,497\u001b[0m (134.75 KB)\n"
      ]
     },
     "metadata": {},
     "output_type": "display_data"
    },
    {
     "data": {
      "text/html": [
       "<pre style=\"white-space:pre;overflow-x:auto;line-height:normal;font-family:Menlo,'DejaVu Sans Mono',consolas,'Courier New',monospace\"><span style=\"font-weight: bold\"> Trainable params: </span><span style=\"color: #00af00; text-decoration-color: #00af00\">34,497</span> (134.75 KB)\n",
       "</pre>\n"
      ],
      "text/plain": [
       "\u001b[1m Trainable params: \u001b[0m\u001b[38;5;34m34,497\u001b[0m (134.75 KB)\n"
      ]
     },
     "metadata": {},
     "output_type": "display_data"
    },
    {
     "data": {
      "text/html": [
       "<pre style=\"white-space:pre;overflow-x:auto;line-height:normal;font-family:Menlo,'DejaVu Sans Mono',consolas,'Courier New',monospace\"><span style=\"font-weight: bold\"> Non-trainable params: </span><span style=\"color: #00af00; text-decoration-color: #00af00\">0</span> (0.00 B)\n",
       "</pre>\n"
      ],
      "text/plain": [
       "\u001b[1m Non-trainable params: \u001b[0m\u001b[38;5;34m0\u001b[0m (0.00 B)\n"
      ]
     },
     "metadata": {},
     "output_type": "display_data"
    },
    {
     "name": "stdout",
     "output_type": "stream",
     "text": [
      "Epoch 1/30\n",
      "\u001b[1m37/37\u001b[0m \u001b[32m━━━━━━━━━━━━━━━━━━━━\u001b[0m\u001b[37m\u001b[0m \u001b[1m4s\u001b[0m 83ms/step - accuracy: 0.5340 - loss: 0.6818 - val_accuracy: 0.6499 - val_loss: 0.6324\n",
      "Epoch 2/30\n",
      "\u001b[1m37/37\u001b[0m \u001b[32m━━━━━━━━━━━━━━━━━━━━\u001b[0m\u001b[37m\u001b[0m \u001b[1m3s\u001b[0m 77ms/step - accuracy: 0.6514 - loss: 0.6203 - val_accuracy: 0.6759 - val_loss: 0.6097\n",
      "Epoch 3/30\n",
      "\u001b[1m37/37\u001b[0m \u001b[32m━━━━━━━━━━━━━━━━━━━━\u001b[0m\u001b[37m\u001b[0m \u001b[1m3s\u001b[0m 80ms/step - accuracy: 0.6828 - loss: 0.5968 - val_accuracy: 0.6898 - val_loss: 0.6008\n",
      "Epoch 4/30\n",
      "\u001b[1m37/37\u001b[0m \u001b[32m━━━━━━━━━━━━━━━━━━━━\u001b[0m\u001b[37m\u001b[0m \u001b[1m3s\u001b[0m 80ms/step - accuracy: 0.6913 - loss: 0.5747 - val_accuracy: 0.6707 - val_loss: 0.6183\n",
      "Epoch 5/30\n",
      "\u001b[1m37/37\u001b[0m \u001b[32m━━━━━━━━━━━━━━━━━━━━\u001b[0m\u001b[37m\u001b[0m \u001b[1m3s\u001b[0m 80ms/step - accuracy: 0.6825 - loss: 0.5841 - val_accuracy: 0.6915 - val_loss: 0.5900\n",
      "Epoch 6/30\n",
      "\u001b[1m37/37\u001b[0m \u001b[32m━━━━━━━━━━━━━━━━━━━━\u001b[0m\u001b[37m\u001b[0m \u001b[1m3s\u001b[0m 82ms/step - accuracy: 0.6898 - loss: 0.5799 - val_accuracy: 0.7036 - val_loss: 0.5892\n",
      "Epoch 7/30\n",
      "\u001b[1m37/37\u001b[0m \u001b[32m━━━━━━━━━━━━━━━━━━━━\u001b[0m\u001b[37m\u001b[0m \u001b[1m3s\u001b[0m 79ms/step - accuracy: 0.7062 - loss: 0.5603 - val_accuracy: 0.7210 - val_loss: 0.5531\n",
      "Epoch 8/30\n",
      "\u001b[1m37/37\u001b[0m \u001b[32m━━━━━━━━━━━━━━━━━━━━\u001b[0m\u001b[37m\u001b[0m \u001b[1m3s\u001b[0m 83ms/step - accuracy: 0.7357 - loss: 0.5255 - val_accuracy: 0.7140 - val_loss: 0.5934\n",
      "Epoch 9/30\n",
      "\u001b[1m37/37\u001b[0m \u001b[32m━━━━━━━━━━━━━━━━━━━━\u001b[0m\u001b[37m\u001b[0m \u001b[1m3s\u001b[0m 82ms/step - accuracy: 0.7163 - loss: 0.5577 - val_accuracy: 0.7019 - val_loss: 0.5805\n",
      "Epoch 10/30\n",
      "\u001b[1m37/37\u001b[0m \u001b[32m━━━━━━━━━━━━━━━━━━━━\u001b[0m\u001b[37m\u001b[0m \u001b[1m3s\u001b[0m 80ms/step - accuracy: 0.6909 - loss: 0.5614 - val_accuracy: 0.7088 - val_loss: 0.5652\n",
      "Epoch 11/30\n",
      "\u001b[1m37/37\u001b[0m \u001b[32m━━━━━━━━━━━━━━━━━━━━\u001b[0m\u001b[37m\u001b[0m \u001b[1m3s\u001b[0m 81ms/step - accuracy: 0.7326 - loss: 0.5213 - val_accuracy: 0.7331 - val_loss: 0.5256\n",
      "Epoch 12/30\n",
      "\u001b[1m37/37\u001b[0m \u001b[32m━━━━━━━━━━━━━━━━━━━━\u001b[0m\u001b[37m\u001b[0m \u001b[1m3s\u001b[0m 82ms/step - accuracy: 0.7570 - loss: 0.4864 - val_accuracy: 0.7123 - val_loss: 0.5425\n",
      "Epoch 13/30\n",
      "\u001b[1m37/37\u001b[0m \u001b[32m━━━━━━━━━━━━━━━━━━━━\u001b[0m\u001b[37m\u001b[0m \u001b[1m3s\u001b[0m 83ms/step - accuracy: 0.7311 - loss: 0.5066 - val_accuracy: 0.7712 - val_loss: 0.4857\n",
      "Epoch 14/30\n",
      "\u001b[1m37/37\u001b[0m \u001b[32m━━━━━━━━━━━━━━━━━━━━\u001b[0m\u001b[37m\u001b[0m \u001b[1m3s\u001b[0m 90ms/step - accuracy: 0.7821 - loss: 0.4670 - val_accuracy: 0.7660 - val_loss: 0.5011\n",
      "Epoch 15/30\n",
      "\u001b[1m37/37\u001b[0m \u001b[32m━━━━━━━━━━━━━━━━━━━━\u001b[0m\u001b[37m\u001b[0m \u001b[1m3s\u001b[0m 86ms/step - accuracy: 0.7506 - loss: 0.5160 - val_accuracy: 0.7660 - val_loss: 0.5548\n",
      "Epoch 16/30\n",
      "\u001b[1m37/37\u001b[0m \u001b[32m━━━━━━━━━━━━━━━━━━━━\u001b[0m\u001b[37m\u001b[0m \u001b[1m3s\u001b[0m 81ms/step - accuracy: 0.7594 - loss: 0.4953 - val_accuracy: 0.7539 - val_loss: 0.5102\n",
      "Epoch 17/30\n",
      "\u001b[1m37/37\u001b[0m \u001b[32m━━━━━━━━━━━━━━━━━━━━\u001b[0m\u001b[37m\u001b[0m \u001b[1m3s\u001b[0m 87ms/step - accuracy: 0.7706 - loss: 0.4718 - val_accuracy: 0.7591 - val_loss: 0.4842\n",
      "Epoch 18/30\n",
      "\u001b[1m37/37\u001b[0m \u001b[32m━━━━━━━━━━━━━━━━━━━━\u001b[0m\u001b[37m\u001b[0m \u001b[1m3s\u001b[0m 81ms/step - accuracy: 0.7514 - loss: 0.4822 - val_accuracy: 0.7539 - val_loss: 0.4853\n",
      "Epoch 19/30\n",
      "\u001b[1m37/37\u001b[0m \u001b[32m━━━━━━━━━━━━━━━━━━━━\u001b[0m\u001b[37m\u001b[0m \u001b[1m3s\u001b[0m 80ms/step - accuracy: 0.7664 - loss: 0.4565 - val_accuracy: 0.7730 - val_loss: 0.4689\n",
      "Epoch 20/30\n",
      "\u001b[1m37/37\u001b[0m \u001b[32m━━━━━━━━━━━━━━━━━━━━\u001b[0m\u001b[37m\u001b[0m \u001b[1m3s\u001b[0m 80ms/step - accuracy: 0.7814 - loss: 0.4499 - val_accuracy: 0.7799 - val_loss: 0.4676\n",
      "Epoch 21/30\n",
      "\u001b[1m37/37\u001b[0m \u001b[32m━━━━━━━━━━━━━━━━━━━━\u001b[0m\u001b[37m\u001b[0m \u001b[1m3s\u001b[0m 79ms/step - accuracy: 0.8016 - loss: 0.4225 - val_accuracy: 0.7036 - val_loss: 0.6063\n",
      "Epoch 22/30\n",
      "\u001b[1m37/37\u001b[0m \u001b[32m━━━━━━━━━━━━━━━━━━━━\u001b[0m\u001b[37m\u001b[0m \u001b[1m3s\u001b[0m 80ms/step - accuracy: 0.6953 - loss: 0.5775 - val_accuracy: 0.6776 - val_loss: 0.6072\n",
      "Epoch 23/30\n",
      "\u001b[1m37/37\u001b[0m \u001b[32m━━━━━━━━━━━━━━━━━━━━\u001b[0m\u001b[37m\u001b[0m \u001b[1m3s\u001b[0m 81ms/step - accuracy: 0.6930 - loss: 0.5681 - val_accuracy: 0.7227 - val_loss: 0.5449\n",
      "Epoch 24/30\n",
      "\u001b[1m37/37\u001b[0m \u001b[32m━━━━━━━━━━━━━━━━━━━━\u001b[0m\u001b[37m\u001b[0m \u001b[1m3s\u001b[0m 80ms/step - accuracy: 0.7526 - loss: 0.5032 - val_accuracy: 0.7400 - val_loss: 0.5214\n",
      "Epoch 25/30\n",
      "\u001b[1m37/37\u001b[0m \u001b[32m━━━━━━━━━━━━━━━━━━━━\u001b[0m\u001b[37m\u001b[0m \u001b[1m3s\u001b[0m 81ms/step - accuracy: 0.7385 - loss: 0.5264 - val_accuracy: 0.7712 - val_loss: 0.4793\n",
      "Epoch 26/30\n",
      "\u001b[1m37/37\u001b[0m \u001b[32m━━━━━━━━━━━━━━━━━━━━\u001b[0m\u001b[37m\u001b[0m \u001b[1m3s\u001b[0m 79ms/step - accuracy: 0.7571 - loss: 0.4894 - val_accuracy: 0.7608 - val_loss: 0.4889\n",
      "Epoch 27/30\n",
      "\u001b[1m37/37\u001b[0m \u001b[32m━━━━━━━━━━━━━━━━━━━━\u001b[0m\u001b[37m\u001b[0m \u001b[1m3s\u001b[0m 85ms/step - accuracy: 0.7161 - loss: 0.5363 - val_accuracy: 0.7088 - val_loss: 0.5791\n",
      "Epoch 28/30\n",
      "\u001b[1m37/37\u001b[0m \u001b[32m━━━━━━━━━━━━━━━━━━━━\u001b[0m\u001b[37m\u001b[0m \u001b[1m3s\u001b[0m 81ms/step - accuracy: 0.7069 - loss: 0.5576 - val_accuracy: 0.7522 - val_loss: 0.5028\n",
      "Epoch 29/30\n",
      "\u001b[1m37/37\u001b[0m \u001b[32m━━━━━━━━━━━━━━━━━━━━\u001b[0m\u001b[37m\u001b[0m \u001b[1m3s\u001b[0m 83ms/step - accuracy: 0.7700 - loss: 0.4744 - val_accuracy: 0.7504 - val_loss: 0.4900\n",
      "Epoch 30/30\n",
      "\u001b[1m37/37\u001b[0m \u001b[32m━━━━━━━━━━━━━━━━━━━━\u001b[0m\u001b[37m\u001b[0m \u001b[1m3s\u001b[0m 83ms/step - accuracy: 0.7560 - loss: 0.4764 - val_accuracy: 0.7782 - val_loss: 0.4678\n"
     ]
    }
   ],
   "source": [
    "# Keras LSTM Model\n",
    "\n",
    "# Get the shape parameters\n",
    "timesteps = X_train_window.shape[1]\n",
    "n_channels = X_train_window.shape[2]\n",
    "\n",
    "# Define an LSTM-based model\n",
    "model = models.Sequential([\n",
    "    # First LSTM layer with 64 units; returns sequences for stacking\n",
    "    layers.LSTM(64, return_sequences=True, input_shape=(timesteps, n_channels)),\n",
    "\n",
    "    # Second LSTM layer with 32 units; returns the final hidden state only\n",
    "    layers.LSTM(32),\n",
    "\n",
    "    # Fully connected (Dense) layer with ReLU activation\n",
    "    layers.Dense(32, activation='relu'),\n",
    "\n",
    "    # Output layer for binary classification\n",
    "    layers.Dense(1, activation='sigmoid')\n",
    "])\n",
    "\n",
    "# Compile the model\n",
    "model.compile(optimizer='adam', loss='binary_crossentropy', metrics=['accuracy'])\n",
    "\n",
    "# Display the model summary\n",
    "model.summary()\n",
    "\n",
    "# Train the model\n",
    "history = model.fit(\n",
    "    X_train_window, y_train_window,\n",
    "    validation_data=(X_test_window, y_test_window),\n",
    "    epochs=30,\n",
    "    batch_size=64\n",
    ")"
   ]
  },
  {
   "cell_type": "markdown",
   "id": "c1e77931",
   "metadata": {},
   "source": [
    "## 06. Model Assesment and Improvements (PENDING)"
   ]
  },
  {
   "cell_type": "markdown",
   "id": "65e9a219",
   "metadata": {},
   "source": []
  }
 ],
 "metadata": {
  "kernelspec": {
   "display_name": "Neurocheck",
   "language": "python",
   "name": "python3"
  },
  "language_info": {
   "codemirror_mode": {
    "name": "ipython",
    "version": 3
   },
   "file_extension": ".py",
   "mimetype": "text/x-python",
   "name": "python",
   "nbconvert_exporter": "python",
   "pygments_lexer": "ipython3",
   "version": "3.10.6"
  }
 },
 "nbformat": 4,
 "nbformat_minor": 5
}
