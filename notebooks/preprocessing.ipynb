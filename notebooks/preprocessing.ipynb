{
 "cells": [
  {
   "cell_type": "markdown",
   "id": "b42c95dc",
   "metadata": {},
   "source": [
    "# Preprocessing"
   ]
  },
  {
   "cell_type": "markdown",
   "id": "90e77f7c",
   "metadata": {},
   "source": [
    "### Imports\n"
   ]
  },
  {
   "cell_type": "code",
   "execution_count": 1,
   "id": "f8c378be",
   "metadata": {},
   "outputs": [],
   "source": [
    "import pandas as pd\n",
    "import numpy as np\n",
    "from sklearn.preprocessing import MinMaxScaler\n",
    "from sklearn.model_selection import train_test_split\n",
    "from sklearn.model_selection import GroupShuffleSplit\n",
    "from sklearn.metrics import accuracy_score\n",
    "from sklearn.inspection import permutation_importance\n",
    "from sklearn.model_selection import cross_val_score, GroupKFold\n",
    "from sklearn.linear_model import LogisticRegression\n",
    "import seaborn as sns"
   ]
  },
  {
   "cell_type": "markdown",
   "id": "422910c1",
   "metadata": {},
   "source": []
  },
  {
   "cell_type": "code",
   "execution_count": 2,
   "id": "1bb26651",
   "metadata": {},
   "outputs": [],
   "source": [
    "#FILE PATH\n",
    "file_path = '/home/cdennis51/code/Cdennis51/Neurocheck/raw_data/mental_fatigue/MEFAR_preprocessed/MEFAR_preprocessed/MEFAR_MID.csv'\n",
    "df = pd.read_csv(file_path)"
   ]
  },
  {
   "cell_type": "markdown",
   "id": "d9ccb5ac",
   "metadata": {},
   "source": [
    "### Drop and assign columns "
   ]
  },
  {
   "cell_type": "code",
   "execution_count": 3,
   "id": "f68cee18",
   "metadata": {},
   "outputs": [
    {
     "name": "stdout",
     "output_type": "stream",
     "text": [
      "['BVP', 'EDA', 'TEMP', 'AccX', 'AccY', 'AccZ', 'HR', ' Delta', ' Theta', ' Alpha1', ' Alpha2', ' Beta1', ' Beta2', ' Gamma1', ' Gamma2', ' Attention', ' Meditation', 'class']\n"
     ]
    }
   ],
   "source": [
    "print(df.columns.tolist())\n",
    "df.columns = df.columns.str.strip()"
   ]
  },
  {
   "cell_type": "code",
   "execution_count": 4,
   "id": "dc5f3fa4",
   "metadata": {},
   "outputs": [],
   "source": [
    "#Load session map which defines start/end rows for each participant-session\n",
    "session_map = pd.read_csv('/home/cdennis51/code/Cdennis51/Neurocheck/raw_data/mental_fatigue/Session_Map.csv')\n"
   ]
  },
  {
   "cell_type": "code",
   "execution_count": 5,
   "id": "965816f0",
   "metadata": {},
   "outputs": [],
   "source": [
    "#eeg_columns = ['Delta', 'Theta', 'Alpha1', 'Alpha2', 'Beta1', 'Beta2', 'Gamma1', 'Gamma2']\n",
    "#X_eeg = df[eeg_columns].copy()\n",
    "#y = df['class']\n",
    "\n",
    "features = df.columns.drop('class')\n",
    "X= df[features].copy()\n",
    "y = df['class'].copy()"
   ]
  },
  {
   "cell_type": "code",
   "execution_count": 6,
   "id": "ff52d2ba",
   "metadata": {},
   "outputs": [
    {
     "name": "stdout",
     "output_type": "stream",
     "text": [
      "Index(['BVP', 'EDA', 'TEMP', 'AccX', 'AccY', 'AccZ', 'HR', 'Delta', 'Theta',\n",
      "       'Alpha1', 'Alpha2', 'Beta1', 'Beta2', 'Gamma1', 'Gamma2', 'Attention',\n",
      "       'Meditation'],\n",
      "      dtype='object')\n"
     ]
    }
   ],
   "source": [
    "print(features)"
   ]
  },
  {
   "cell_type": "markdown",
   "id": "ae3ce322",
   "metadata": {},
   "source": []
  },
  {
   "cell_type": "markdown",
   "id": "f17e0439",
   "metadata": {},
   "source": [
    "## Creating the windows"
   ]
  },
  {
   "cell_type": "code",
   "execution_count": 7,
   "id": "acb27400",
   "metadata": {},
   "outputs": [],
   "source": [
    "sampling_rate = 32\n",
    "window_seconds = 10 #Window size = 10 seconds of data--> 320 rows per window\n",
    "window_size = sampling_rate * window_seconds\n",
    "stride = int(window_size*0.5) #Stride = 50% overlap --> shifts 5 seconds at a time"
   ]
  },
  {
   "cell_type": "code",
   "execution_count": 16,
   "id": "c8e71f21",
   "metadata": {},
   "outputs": [],
   "source": [
    "#Slide window within each session to avoid mixing subjects/sessions\n",
    "\n",
    "X_windows, y_windows, session_ids = [], [], []\n",
    "\n",
    "for _, row in session_map.iterrows():     #returns each row of DF as tuple (i,r) _ means ignore index use row\n",
    "    session_id = row['session_id']\n",
    "    start = int(row['start_index'])\n",
    "    end = int(row['end_index'])\n",
    "\n",
    "    X_session = X.iloc[start:end].values\n",
    "    y_session = y.iloc[start:end].values\n",
    "\n",
    "    for i in range(0, len(X_session) - window_size + 1, stride):\n",
    "        window = X_session[i:i + window_size]\n",
    "        label = y_session[i + window_size - 1]  # Label taken from the end of the window\n",
    "        # Majority voting below: label = 1 if more than 50% of labels in the window are 1\n",
    "        #label = (y_session[i:i + window_size].mean() > 0.5).astype(int)\n",
    "        X_windows.append(window)\n",
    "        y_windows.append(label)\n",
    "        session_ids.append(session_id)\n",
    "\n",
    "\n",
    "\n",
    "# convert to np for modelling\n",
    "X_windows = np.array(X_windows)\n",
    "y_windows = np.array(y_windows)\n",
    "session_ids = np.array(session_ids)"
   ]
  },
  {
   "cell_type": "code",
   "execution_count": 17,
   "id": "50fc91d0",
   "metadata": {},
   "outputs": [],
   "source": [
    "# not sure whether to normalise per window again maybe test and remove\n",
    "X_norm = np.array([MinMaxScaler().fit_transform(window) for window in X_windows])"
   ]
  },
  {
   "cell_type": "code",
   "execution_count": 18,
   "id": "7159eac5",
   "metadata": {},
   "outputs": [
    {
     "name": "stdout",
     "output_type": "stream",
     "text": [
      "923298\n",
      "Window size: 320\n",
      "Stride: 160\n"
     ]
    }
   ],
   "source": [
    "print(len(X))\n",
    "print(\"Window size:\", window_size)\n",
    "print(\"Stride:\", stride)"
   ]
  },
  {
   "cell_type": "code",
   "execution_count": 19,
   "id": "6de11a22",
   "metadata": {},
   "outputs": [],
   "source": [
    "# split into training and test sets using GroupShuffleSplit (grouped by session id)\n",
    "splitter = GroupShuffleSplit(n_splits=1, test_size=0.2, random_state=42)  #prevents pverlap between train/test split for groups\n",
    "train_idx, test_idx = next(splitter.split(X_norm, y_windows, groups=session_ids))\n",
    "\n",
    "X_train, X_test = X_norm[train_idx], X_norm[test_idx]\n",
    "y_train, y_test = y_windows[train_idx], y_windows[test_idx]"
   ]
  },
  {
   "cell_type": "code",
   "execution_count": 20,
   "id": "bb94af9d",
   "metadata": {},
   "outputs": [
    {
     "data": {
      "text/plain": [
       "array([0.76767677, 0.81481481, 0.7755102 , 0.68367347, 0.68367347])"
      ]
     },
     "execution_count": 20,
     "metadata": {},
     "output_type": "execute_result"
    }
   ],
   "source": [
    "\n",
    "cv = GroupKFold(n_splits=5)\n",
    "model = LogisticRegression(max_iter=1000)\n",
    "\n",
    "#flattening doesn't work made too many features\n",
    "# Flatten the 3D windowed data to 2D\n",
    "#n_samples, time_steps, n_feats = X_norm.shape\n",
    "#X_flat = X_norm.reshape(n_samples, time_steps * n_feats)\n",
    "\n",
    "\n",
    "# instead sumarrise each window with 4 stats17x4 = 68 features (mean, std, min, max for each)\n",
    "def summarize_window(window):\n",
    "    return np.concatenate([\n",
    "        window.mean(axis=0),\n",
    "        window.std(axis=0),\n",
    "        window.min(axis=0),\n",
    "        window.max(axis=0)\n",
    "    ])\n",
    "\n",
    "X_summary = np.array([summarize_window(w) for w in X_norm])\n",
    "\n",
    "cross_val_score(model, X_summary, y_windows, groups=session_ids, cv=cv)\n"
   ]
  },
  {
   "cell_type": "markdown",
   "id": "b1ef67d9",
   "metadata": {},
   "source": [
    "for me each fold has 0.76767677, 0.81481481, 0.7755102 , 0.68367347, 0.68367347 - not bad???? - better than flattening which was aapprox 63%\n",
    "\n"
   ]
  },
  {
   "cell_type": "markdown",
   "id": "8241ad9e",
   "metadata": {},
   "source": [
    "### feature permutation"
   ]
  },
  {
   "cell_type": "code",
   "execution_count": 21,
   "id": "02f83e7c",
   "metadata": {},
   "outputs": [
    {
     "name": "stdout",
     "output_type": "stream",
     "text": [
      "0.7744510978043913\n",
      "    feature_index  importance_mean  importance_std\n",
      "4               4         0.017764        0.006018\n",
      "3               3         0.007784        0.002886\n",
      "0               0         0.006587        0.003225\n",
      "5               5         0.005988        0.003571\n",
      "9               9         0.005190        0.003702\n",
      "15             15         0.004591        0.002533\n",
      "16             16         0.004192        0.001397\n",
      "14             14         0.002794        0.002223\n",
      "10             10         0.001796        0.001075\n",
      "12             12         0.001597        0.001494\n"
     ]
    }
   ],
   "source": [
    "model = LogisticRegression(max_iter=1000)\n",
    "model.fit(X_summary, y_windows)\n",
    "y_pred = model.predict(X_summary)\n",
    "print(accuracy_score(y_windows, y_pred))\n",
    "\n",
    "\n",
    "result = permutation_importance(model, X_summary, y_windows, n_repeats=10, random_state=42)\n",
    "\n",
    "# View top features\n",
    "\n",
    "importance_df = pd.DataFrame({\n",
    "    \"feature_index\": np.arange(X_summary.shape[1]),\n",
    "    \"importance_mean\": result.importances_mean,\n",
    "    \"importance_std\": result.importances_std\n",
    "})\n",
    "print(importance_df.sort_values(by=\"importance_mean\", ascending=False).head(10))\n"
   ]
  },
  {
   "cell_type": "code",
   "execution_count": 22,
   "id": "fe14732b",
   "metadata": {},
   "outputs": [
    {
     "data": {
      "text/html": [
       "<div>\n",
       "<style scoped>\n",
       "    .dataframe tbody tr th:only-of-type {\n",
       "        vertical-align: middle;\n",
       "    }\n",
       "\n",
       "    .dataframe tbody tr th {\n",
       "        vertical-align: top;\n",
       "    }\n",
       "\n",
       "    .dataframe thead th {\n",
       "        text-align: right;\n",
       "    }\n",
       "</style>\n",
       "<table border=\"1\" class=\"dataframe\">\n",
       "  <thead>\n",
       "    <tr style=\"text-align: right;\">\n",
       "      <th></th>\n",
       "      <th>feature_index</th>\n",
       "      <th>importance_mean</th>\n",
       "      <th>importance_std</th>\n",
       "      <th>feature_name</th>\n",
       "    </tr>\n",
       "  </thead>\n",
       "  <tbody>\n",
       "    <tr>\n",
       "      <th>4</th>\n",
       "      <td>4</td>\n",
       "      <td>0.017764</td>\n",
       "      <td>0.006018</td>\n",
       "      <td>AccY_mean</td>\n",
       "    </tr>\n",
       "    <tr>\n",
       "      <th>3</th>\n",
       "      <td>3</td>\n",
       "      <td>0.007784</td>\n",
       "      <td>0.002886</td>\n",
       "      <td>AccX_mean</td>\n",
       "    </tr>\n",
       "    <tr>\n",
       "      <th>0</th>\n",
       "      <td>0</td>\n",
       "      <td>0.006587</td>\n",
       "      <td>0.003225</td>\n",
       "      <td>BVP_mean</td>\n",
       "    </tr>\n",
       "    <tr>\n",
       "      <th>5</th>\n",
       "      <td>5</td>\n",
       "      <td>0.005988</td>\n",
       "      <td>0.003571</td>\n",
       "      <td>AccZ_mean</td>\n",
       "    </tr>\n",
       "    <tr>\n",
       "      <th>9</th>\n",
       "      <td>9</td>\n",
       "      <td>0.005190</td>\n",
       "      <td>0.003702</td>\n",
       "      <td>Alpha1_mean</td>\n",
       "    </tr>\n",
       "    <tr>\n",
       "      <th>15</th>\n",
       "      <td>15</td>\n",
       "      <td>0.004591</td>\n",
       "      <td>0.002533</td>\n",
       "      <td>Attention_mean</td>\n",
       "    </tr>\n",
       "    <tr>\n",
       "      <th>16</th>\n",
       "      <td>16</td>\n",
       "      <td>0.004192</td>\n",
       "      <td>0.001397</td>\n",
       "      <td>Meditation_mean</td>\n",
       "    </tr>\n",
       "    <tr>\n",
       "      <th>14</th>\n",
       "      <td>14</td>\n",
       "      <td>0.002794</td>\n",
       "      <td>0.002223</td>\n",
       "      <td>Gamma2_mean</td>\n",
       "    </tr>\n",
       "    <tr>\n",
       "      <th>10</th>\n",
       "      <td>10</td>\n",
       "      <td>0.001796</td>\n",
       "      <td>0.001075</td>\n",
       "      <td>Alpha2_mean</td>\n",
       "    </tr>\n",
       "    <tr>\n",
       "      <th>12</th>\n",
       "      <td>12</td>\n",
       "      <td>0.001597</td>\n",
       "      <td>0.001494</td>\n",
       "      <td>Beta2_mean</td>\n",
       "    </tr>\n",
       "    <tr>\n",
       "      <th>17</th>\n",
       "      <td>17</td>\n",
       "      <td>0.001397</td>\n",
       "      <td>0.001278</td>\n",
       "      <td>BVP_std</td>\n",
       "    </tr>\n",
       "    <tr>\n",
       "      <th>8</th>\n",
       "      <td>8</td>\n",
       "      <td>0.000998</td>\n",
       "      <td>0.000998</td>\n",
       "      <td>Theta_mean</td>\n",
       "    </tr>\n",
       "    <tr>\n",
       "      <th>13</th>\n",
       "      <td>13</td>\n",
       "      <td>0.000599</td>\n",
       "      <td>0.001278</td>\n",
       "      <td>Gamma1_mean</td>\n",
       "    </tr>\n",
       "    <tr>\n",
       "      <th>7</th>\n",
       "      <td>7</td>\n",
       "      <td>0.000599</td>\n",
       "      <td>0.000915</td>\n",
       "      <td>Delta_mean</td>\n",
       "    </tr>\n",
       "    <tr>\n",
       "      <th>18</th>\n",
       "      <td>18</td>\n",
       "      <td>0.000399</td>\n",
       "      <td>0.002493</td>\n",
       "      <td>EDA_std</td>\n",
       "    </tr>\n",
       "    <tr>\n",
       "      <th>19</th>\n",
       "      <td>19</td>\n",
       "      <td>0.000200</td>\n",
       "      <td>0.001658</td>\n",
       "      <td>TEMP_std</td>\n",
       "    </tr>\n",
       "    <tr>\n",
       "      <th>21</th>\n",
       "      <td>21</td>\n",
       "      <td>0.000200</td>\n",
       "      <td>0.001075</td>\n",
       "      <td>AccY_std</td>\n",
       "    </tr>\n",
       "    <tr>\n",
       "      <th>67</th>\n",
       "      <td>67</td>\n",
       "      <td>0.000200</td>\n",
       "      <td>0.000599</td>\n",
       "      <td>Meditation_max</td>\n",
       "    </tr>\n",
       "    <tr>\n",
       "      <th>66</th>\n",
       "      <td>66</td>\n",
       "      <td>0.000200</td>\n",
       "      <td>0.000599</td>\n",
       "      <td>Attention_max</td>\n",
       "    </tr>\n",
       "    <tr>\n",
       "      <th>29</th>\n",
       "      <td>29</td>\n",
       "      <td>0.000200</td>\n",
       "      <td>0.000599</td>\n",
       "      <td>Beta2_std</td>\n",
       "    </tr>\n",
       "  </tbody>\n",
       "</table>\n",
       "</div>"
      ],
      "text/plain": [
       "    feature_index  importance_mean  importance_std     feature_name\n",
       "4               4         0.017764        0.006018        AccY_mean\n",
       "3               3         0.007784        0.002886        AccX_mean\n",
       "0               0         0.006587        0.003225         BVP_mean\n",
       "5               5         0.005988        0.003571        AccZ_mean\n",
       "9               9         0.005190        0.003702      Alpha1_mean\n",
       "15             15         0.004591        0.002533   Attention_mean\n",
       "16             16         0.004192        0.001397  Meditation_mean\n",
       "14             14         0.002794        0.002223      Gamma2_mean\n",
       "10             10         0.001796        0.001075      Alpha2_mean\n",
       "12             12         0.001597        0.001494       Beta2_mean\n",
       "17             17         0.001397        0.001278          BVP_std\n",
       "8               8         0.000998        0.000998       Theta_mean\n",
       "13             13         0.000599        0.001278      Gamma1_mean\n",
       "7               7         0.000599        0.000915       Delta_mean\n",
       "18             18         0.000399        0.002493          EDA_std\n",
       "19             19         0.000200        0.001658         TEMP_std\n",
       "21             21         0.000200        0.001075         AccY_std\n",
       "67             67         0.000200        0.000599   Meditation_max\n",
       "66             66         0.000200        0.000599    Attention_max\n",
       "29             29         0.000200        0.000599        Beta2_std"
      ]
     },
     "execution_count": 22,
     "metadata": {},
     "output_type": "execute_result"
    }
   ],
   "source": [
    "#add readable names\n",
    "\n",
    "raw_features = ['BVP', 'EDA', 'TEMP', 'AccX', 'AccY', 'AccZ', 'HR',\n",
    "                'Delta', 'Theta', 'Alpha1', 'Alpha2', 'Beta1', 'Beta2',\n",
    "                'Gamma1', 'Gamma2', 'Attention', 'Meditation']\n",
    "\n",
    "#make name for all features i.e. BVP_mean/std/mix\n",
    "summary_features = (\n",
    "    [f\"{name}_mean\" for name in raw_features] +\n",
    "    [f\"{name}_std\" for name in raw_features] +\n",
    "    [f\"{name}_min\" for name in raw_features] +\n",
    "    [f\"{name}_max\" for name in raw_features]\n",
    ")\n",
    "\n",
    "#map index to feature\n",
    "importance_df['feature_name'] = importance_df['feature_index'].astype(int).map(lambda i: summary_features[i])\n",
    "\n",
    "importance_df.sort_values(by=\"importance_mean\", ascending=False).head(20)\n"
   ]
  },
  {
   "cell_type": "code",
   "execution_count": 15,
   "id": "2e70b258",
   "metadata": {},
   "outputs": [
    {
     "data": {
      "image/png": "[encoded data removed]",
      "text/plain": [
       "<Figure size 640x480 with 1 Axes>"
      ]
     },
     "metadata": {},
     "output_type": "display_data"
    }
   ],
   "source": [
    "import seaborn as sns\n",
    "import matplotlib.pyplot as plt\n",
    "\n",
    "sns.countplot(x=y_windows)\n",
    "plt.title(\"Mental Fatigue Class Distribution (32Hz)\")\n",
    "plt.xticks([0, 1], ['Not Fatigued', 'Fatigued'])\n",
    "plt.xlabel(\"Class\")\n",
    "plt.ylabel(\"Count\")\n",
    "plt.show()\n"
   ]
  },
  {
   "cell_type": "code",
   "execution_count": 25,
   "id": "7e5e9476",
   "metadata": {},
   "outputs": [],
   "source": [
    "import numpy as np\n",
    "import pandas as pd\n",
    "\n",
    "def report_split_info(session_ids, y_windows, train_idx, test_idx):\n",
    "    \"\"\"\n",
    "    Prints a summary of the train/test split, including:\n",
    "    - Sessions used in train vs test\n",
    "    - Number of windows per session\n",
    "    - Label distribution per split\n",
    "    \"\"\"\n",
    "    train_sessions = np.unique(session_ids[train_idx])\n",
    "    test_sessions = np.unique(session_ids[test_idx])\n",
    "\n",
    "    print(\"=== TRAIN/TEST SPLIT REPORT ===\")\n",
    "    print(f\"Total windows: {len(y_windows)}\")\n",
    "    print(f\"Train windows: {len(train_idx)}, Test windows: {len(test_idx)}\")\n",
    "    print(\"\\nTrain Sessions:\", train_sessions)\n",
    "    print(\"Test Sessions:\", test_sessions)\n",
    "\n",
    "    # Count windows per session\n",
    "    train_counts = pd.Series(session_ids[train_idx]).value_counts().sort_index()\n",
    "    test_counts = pd.Series(session_ids[test_idx]).value_counts().sort_index()\n",
    "    print(\"\\nWindows per Train Session:\\n\", train_counts)\n",
    "    print(\"\\nWindows per Test Session:\\n\", test_counts)\n",
    "\n",
    "    # Label distributions\n",
    "    train_labels = pd.Series(y_windows[train_idx]).value_counts()\n",
    "    test_labels = pd.Series(y_windows[test_idx]).value_counts()\n",
    "    print(\"\\nTrain label distribution:\\n\", train_labels)\n",
    "    print(\"\\nTest label distribution:\\n\", test_labels)\n"
   ]
  },
  {
   "cell_type": "code",
   "execution_count": null,
   "id": "ba2328d0",
   "metadata": {},
   "outputs": [
    {
     "name": "stdout",
     "output_type": "stream",
     "text": [
      "=== TRAIN/TEST SPLIT REPORT ===\n",
      "Total windows: 501\n",
      "Train windows: 391, Test windows: 110\n",
      "\n",
      "Train Sessions: ['sub01_evening' 'sub01_morning' 'sub02_evening' 'sub03_morning'\n",
      " 'sub04_evening' 'sub04_morning' 'sub05_morning' 'sub06_evening'\n",
      " 'sub06_morning' 'sub07_morning' 'sub08_evening' 'sub08_morning'\n",
      " 'sub09_evening' 'sub09_morning' 'sub10_evening' 'sub10_morning'\n",
      " 'sub11_evening' 'sub11_morning' 'sub12_evening' 'sub12_morning'\n",
      " 'sub13_evening' 'sub14_morning' 'sub15_evening' 'sub15_morning'\n",
      " 'sub16_evening' 'sub16_morning' 'sub17_evening' 'sub17_morning'\n",
      " 'sub18_evening' 'sub19_evening' 'sub19_morning' 'sub20_evening'\n",
      " 'sub21_evening' 'sub22_evening' 'sub22_morning' 'sub23_morning']\n",
      "Test Sessions: ['sub02_morning' 'sub03_evening' 'sub05_evening' 'sub07_evening'\n",
      " 'sub13_morning' 'sub14_evening' 'sub18_morning' 'sub20_morning'\n",
      " 'sub21_morning' 'sub23_evening']\n",
      "\n",
      "Windows per Train Session:\n",
      " sub01_evening    10\n",
      "sub01_morning    10\n",
      "sub02_evening    11\n",
      "sub03_morning    11\n",
      "sub04_evening    11\n",
      "sub04_morning    11\n",
      "sub05_morning    10\n",
      "sub06_evening    11\n",
      "sub06_morning    10\n",
      "sub07_morning    10\n",
      "sub08_evening    11\n",
      "sub08_morning    11\n",
      "sub09_evening    11\n",
      "sub09_morning    11\n",
      "sub10_evening    11\n",
      "sub10_morning    11\n",
      "sub11_evening    11\n",
      "sub11_morning    11\n",
      "sub12_evening    11\n",
      "sub12_morning    11\n",
      "sub13_evening    11\n",
      "sub14_morning    11\n",
      "sub15_evening    11\n",
      "sub15_morning    11\n",
      "sub16_evening    11\n",
      "sub16_morning    11\n",
      "sub17_evening    11\n",
      "sub17_morning    11\n",
      "sub18_evening    11\n",
      "sub19_evening    11\n",
      "sub19_morning    11\n",
      "sub20_evening    11\n",
      "sub21_evening    11\n",
      "sub22_evening    11\n",
      "sub22_morning    11\n",
      "sub23_morning    11\n",
      "Name: count, dtype: int64\n",
      "\n",
      "Windows per Test Session:\n",
      " sub02_morning    11\n",
      "sub03_evening    11\n",
      "sub05_evening    11\n",
      "sub07_evening    11\n",
      "sub13_morning    11\n",
      "sub14_evening    11\n",
      "sub18_morning    11\n",
      "sub20_morning    11\n",
      "sub21_morning    11\n",
      "sub23_evening    11\n",
      "Name: count, dtype: int64\n",
      "\n",
      "Train label distribution:\n",
      " 0.0    297\n",
      "1.0     94\n",
      "Name: count, dtype: int64\n",
      "\n",
      "Test label distribution:\n",
      " 0.0    77\n",
      "1.0    33\n",
      "Name: count, dtype: int64\n"
     ]
    }
   ],
   "source": [
    "report_split_info(session_ids, y_windows, train_idx, test_idx)\n"
   ]
  },
  {
   "cell_type": "code",
   "execution_count": null,
   "id": "07a5aa96",
   "metadata": {},
   "outputs": [],
   "source": []
  }
 ],
 "metadata": {
  "kernelspec": {
   "display_name": "Neurocheck",
   "language": "python",
   "name": "python3"
  },
  "language_info": {
   "codemirror_mode": {
    "name": "ipython",
    "version": 3
   },
   "file_extension": ".py",
   "mimetype": "text/x-python",
   "name": "python",
   "nbconvert_exporter": "python",
   "pygments_lexer": "ipython3",
   "version": "3.10.6"
  }
 },
 "nbformat": 4,
 "nbformat_minor": 5
}
