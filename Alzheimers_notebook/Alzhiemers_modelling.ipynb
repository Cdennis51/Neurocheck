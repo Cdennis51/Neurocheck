{
 "cells": [
  {
   "cell_type": "code",
   "execution_count": 28,
   "id": "fee424e2",
   "metadata": {},
   "outputs": [],
   "source": [
    "from datasets import load_dataset\n",
    "from Alz_preprocessing import get_train_test_datasets\n",
    "from tensorflow.keras.applications import ResNet50\n",
    "from tensorflow.keras.layers import Dense, GlobalAveragePooling2D, Dropout\n",
    "from tensorflow.keras.models import Model\n",
    "from tensorflow.keras.optimizers import Adam"
   ]
  },
  {
   "cell_type": "code",
   "execution_count": 29,
   "id": "c28aa368",
   "metadata": {},
   "outputs": [
    {
     "name": "stdout",
     "output_type": "stream",
     "text": [
      "{np.int64(0): np.float64(1.7679558011049723), np.int64(1): np.float64(26.122448979591837), np.int64(2): np.float64(0.49883086515978176), np.int64(3): np.float64(0.7186973610331274)}\n"
     ]
    }
   ],
   "source": [
    "from sklearn.utils.class_weight import compute_class_weight\n",
    "import numpy as np\n",
    "\n",
    "def compute_weights(hf_split):\n",
    "\n",
    "    #Compute class weights for a Hugging Face dataset split.\n",
    "\n",
    "    #Args: hf_split: A Hugging Face dataset split (e.g., dataset['train'])\n",
    "\n",
    "    #Returns: class_weights (dict): A dictionary mapping class index to its weight.\n",
    "\n",
    "    labels = np.array(hf_split['label'])\n",
    "    classes = np.unique(labels)\n",
    "\n",
    "    weights = compute_class_weight(class_weight='balanced', classes=classes, y=labels)\n",
    "    return dict(zip(classes, weights))\n",
    "\n",
    "if __name__ == \"__main__\":\n",
    "    from datasets import load_dataset\n",
    "    dataset = load_dataset(\"Falah/Alzheimer_MRI\")\n",
    "    print(compute_weights(dataset['train']))"
   ]
  },
  {
   "cell_type": "code",
   "execution_count": 31,
   "id": "7d3dc5fc",
   "metadata": {},
   "outputs": [
    {
     "ename": "TypeError",
     "evalue": "hf_to_tf_dataset() takes from 1 to 2 positional arguments but 3 were given",
     "output_type": "error",
     "traceback": [
      "\u001b[0;31m---------------------------------------------------------------------------\u001b[0m",
      "\u001b[0;31mTypeError\u001b[0m                                 Traceback (most recent call last)",
      "Cell \u001b[0;32mIn[31], line 3\u001b[0m\n\u001b[1;32m      1\u001b[0m dataset \u001b[38;5;241m=\u001b[39m load_dataset(\u001b[38;5;124m\"\u001b[39m\u001b[38;5;124mFalah/Alzheimer_MRI\u001b[39m\u001b[38;5;124m\"\u001b[39m)\n\u001b[1;32m      2\u001b[0m label_names \u001b[38;5;241m=\u001b[39m dataset[\u001b[38;5;124m'\u001b[39m\u001b[38;5;124mtrain\u001b[39m\u001b[38;5;124m'\u001b[39m]\u001b[38;5;241m.\u001b[39mfeatures[\u001b[38;5;124m'\u001b[39m\u001b[38;5;124mlabel\u001b[39m\u001b[38;5;124m'\u001b[39m]\u001b[38;5;241m.\u001b[39mnames\n\u001b[0;32m----> 3\u001b[0m train_ds, test_ds \u001b[38;5;241m=\u001b[39m \u001b[43mget_train_test_datasets\u001b[49m\u001b[43m(\u001b[49m\u001b[43mdataset\u001b[49m\u001b[43m,\u001b[49m\u001b[43m \u001b[49m\u001b[43mlabel_names\u001b[49m\u001b[43m)\u001b[49m\n\u001b[1;32m      4\u001b[0m class_weights \u001b[38;5;241m=\u001b[39m compute_weights(dataset[\u001b[38;5;124m'\u001b[39m\u001b[38;5;124mtrain\u001b[39m\u001b[38;5;124m'\u001b[39m])\n\u001b[1;32m      5\u001b[0m \u001b[38;5;28mprint\u001b[39m(\u001b[38;5;124m\"\u001b[39m\u001b[38;5;124mClass Weights:\u001b[39m\u001b[38;5;124m\"\u001b[39m, class_weights)\n",
      "File \u001b[0;32m~/code/Cdennis51/Neurocheck/Neurocheck/Alzheimers_notebook/Alz_preprocessing.py:39\u001b[0m, in \u001b[0;36mget_train_test_datasets\u001b[0;34m(dataset, label_names, batch_size)\u001b[0m\n\u001b[1;32m     35\u001b[0m \u001b[38;5;28;01mdef\u001b[39;00m\u001b[38;5;250m \u001b[39m\u001b[38;5;21mget_train_test_datasets\u001b[39m(dataset, label_names, batch_size\u001b[38;5;241m=\u001b[39mBATCH_SIZE):\n\u001b[1;32m     36\u001b[0m \n\u001b[1;32m     37\u001b[0m    \u001b[38;5;66;03m# Prepare both train and test datasets from the Hugging Face dataset\u001b[39;00m\n\u001b[0;32m---> 39\u001b[0m     train_ds \u001b[38;5;241m=\u001b[39m \u001b[43mhf_to_tf_dataset\u001b[49m\u001b[43m(\u001b[49m\u001b[43mdataset\u001b[49m\u001b[43m[\u001b[49m\u001b[38;5;124;43m\"\u001b[39;49m\u001b[38;5;124;43mtrain\u001b[39;49m\u001b[38;5;124;43m\"\u001b[39;49m\u001b[43m]\u001b[49m\u001b[43m,\u001b[49m\u001b[43m \u001b[49m\u001b[43mlabel_names\u001b[49m\u001b[43m,\u001b[49m\u001b[43m \u001b[49m\u001b[43mbatch_size\u001b[49m\u001b[43m)\u001b[49m\n\u001b[1;32m     40\u001b[0m     test_ds  \u001b[38;5;241m=\u001b[39m hf_to_tf_dataset(dataset[\u001b[38;5;124m\"\u001b[39m\u001b[38;5;124mtest\u001b[39m\u001b[38;5;124m\"\u001b[39m], label_names, batch_size)\n\u001b[1;32m     41\u001b[0m     \u001b[38;5;28;01mreturn\u001b[39;00m train_ds, test_ds\n",
      "\u001b[0;31mTypeError\u001b[0m: hf_to_tf_dataset() takes from 1 to 2 positional arguments but 3 were given"
     ]
    }
   ],
   "source": [
    "dataset = load_dataset(\"Falah/Alzheimer_MRI\")\n",
    "label_names = dataset['train'].features['label'].names\n",
    "train_ds, test_ds = get_train_test_datasets(dataset, label_names)\n",
    "class_weights = compute_weights(dataset['train'])\n",
    "print(\"Class Weights:\", class_weights)"
   ]
  },
  {
   "cell_type": "code",
   "execution_count": null,
   "id": "c5fad08b",
   "metadata": {},
   "outputs": [],
   "source": []
  }
 ],
 "metadata": {
  "kernelspec": {
   "display_name": "Python 3 (ipykernel)",
   "language": "python",
   "name": "python3"
  },
  "language_info": {
   "codemirror_mode": {
    "name": "ipython",
    "version": 3
   },
   "file_extension": ".py",
   "mimetype": "text/x-python",
   "name": "python",
   "nbconvert_exporter": "python",
   "pygments_lexer": "ipython3",
   "version": "3.10.6"
  }
 },
 "nbformat": 4,
 "nbformat_minor": 5
}
