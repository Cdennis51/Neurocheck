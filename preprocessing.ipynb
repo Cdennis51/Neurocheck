{
 "cells": [
  {
   "cell_type": "markdown",
   "id": "b42c95dc",
   "metadata": {},
   "source": [
    "# Preprocessing"
   ]
  },
  {
   "cell_type": "markdown",
   "id": "90e77f7c",
   "metadata": {},
   "source": [
    "### Imports\n"
   ]
  },
  {
   "cell_type": "code",
   "execution_count": 3,
   "id": "f8c378be",
   "metadata": {},
   "outputs": [],
   "source": [
    "import pandas as pd\n",
    "import numpy as np\n",
    "from sklearn.preprocessing import MinMaxScaler\n",
    "from sklearn.model_selection import train_test_split\n",
    "from sklearn.model_selection import GroupShuffleSplit"
   ]
  },
  {
   "cell_type": "code",
   "execution_count": 4,
   "id": "1bb26651",
   "metadata": {},
   "outputs": [],
   "source": [
    "#FILE PATH\n",
    "file_path = '/home/cdennis51/code/Cdennis51/Neurocheck/raw_data/mental_fatigue/MEFAR_preprocessed/MEFAR_preprocessed/MEFAR_MID.csv'\n",
    "df = pd.read_csv(file_path)"
   ]
  },
  {
   "cell_type": "markdown",
   "id": "d9ccb5ac",
   "metadata": {},
   "source": [
    "### Drop and assign columns "
   ]
  },
  {
   "cell_type": "code",
   "execution_count": 5,
   "id": "f68cee18",
   "metadata": {},
   "outputs": [
    {
     "name": "stdout",
     "output_type": "stream",
     "text": [
      "['BVP', 'EDA', 'TEMP', 'AccX', 'AccY', 'AccZ', 'HR', ' Delta', ' Theta', ' Alpha1', ' Alpha2', ' Beta1', ' Beta2', ' Gamma1', ' Gamma2', ' Attention', ' Meditation', 'class']\n"
     ]
    }
   ],
   "source": [
    "print(df.columns.tolist())\n",
    "df.columns = df.columns.str.strip()"
   ]
  },
  {
   "cell_type": "code",
   "execution_count": 6,
   "id": "dc5f3fa4",
   "metadata": {},
   "outputs": [],
   "source": [
    "#Load session map which defines start/end rows for each participant-session\n",
    "session_map = pd.read_csv('/home/cdennis51/code/Cdennis51/Neurocheck/raw_data/mental_fatigue/Session_Map.csv')\n"
   ]
  },
  {
   "cell_type": "code",
   "execution_count": 7,
   "id": "965816f0",
   "metadata": {},
   "outputs": [],
   "source": [
    "#eeg_columns = ['Delta', 'Theta', 'Alpha1', 'Alpha2', 'Beta1', 'Beta2', 'Gamma1', 'Gamma2']\n",
    "#X_eeg = df[eeg_columns].copy()\n",
    "#y = df['class']\n",
    "\n",
    "features = df.columns.drop('class')\n",
    "X= df[features].copy()\n",
    "y = df['class'].copy()"
   ]
  },
  {
   "cell_type": "markdown",
   "id": "ae3ce322",
   "metadata": {},
   "source": []
  },
  {
   "cell_type": "markdown",
   "id": "f17e0439",
   "metadata": {},
   "source": [
    "## Creating the windows"
   ]
  },
  {
   "cell_type": "code",
   "execution_count": 8,
   "id": "acb27400",
   "metadata": {},
   "outputs": [],
   "source": [
    "sampling_rate = 32\n",
    "window_seconds = 10 #Window size = 10 seconds of data--> 320 rows per window\n",
    "window_size = sampling_rate * window_seconds\n",
    "stride = int(window_size*0.5) #Stride = 50% overlap --> shifts 5 seconds at a time"
   ]
  },
  {
   "cell_type": "code",
   "execution_count": 9,
   "id": "c8e71f21",
   "metadata": {},
   "outputs": [],
   "source": [
    "#Slide window within each session to avoid mixing subjects/sessions\n",
    "\n",
    "X_windows, y_windows, session_ids = [], [], []\n",
    "\n",
    "for _, row in session_map.iterrows():     #returns each row of DF as tuple (i,r) _ means ignore index use row\n",
    "    session_id = row['session_id']\n",
    "    start = int(row['start_index'])\n",
    "    end = int(row['end_index'])\n",
    "\n",
    "    X_session = X.iloc[start:end].values\n",
    "    y_session = y.iloc[start:end].values\n",
    "\n",
    "    for i in range(0, len(X_session) - window_size + 1, stride):\n",
    "        window = X_session[i:i + window_size]\n",
    "        label = y_session[i + window_size - 1]  # Label taken from the end of the window\n",
    "        X_windows.append(window)\n",
    "        y_windows.append(label)\n",
    "        session_ids.append(session_id)\n",
    "\n",
    "\n",
    "\n",
    "# convert to np for modelling\n",
    "X_windows = np.array(X_windows)\n",
    "y_windows = np.array(y_windows)\n",
    "session_ids = np.array(session_ids)"
   ]
  },
  {
   "cell_type": "code",
   "execution_count": 10,
   "id": "50fc91d0",
   "metadata": {},
   "outputs": [],
   "source": [
    "# not sure whether to normalise per window again maybe test and remove\n",
    "X_norm = np.array([MinMaxScaler().fit_transform(window) for window in X_windows])"
   ]
  },
  {
   "cell_type": "code",
   "execution_count": 11,
   "id": "7159eac5",
   "metadata": {},
   "outputs": [
    {
     "name": "stdout",
     "output_type": "stream",
     "text": [
      "923298\n",
      "Window size: 320\n",
      "Stride: 160\n"
     ]
    }
   ],
   "source": [
    "print(len(X))\n",
    "print(\"Window size:\", window_size)\n",
    "print(\"Stride:\", stride)"
   ]
  },
  {
   "cell_type": "code",
   "execution_count": null,
   "id": "6de11a22",
   "metadata": {},
   "outputs": [],
   "source": [
    "# split into training and test sets using GroupShuffleSplit (grouped by session id)\n",
    "splitter = GroupShuffleSplit(n_splits=1, test_size=0.2, random_state=42)  #prevents pverlap between train/test split\n",
    "train_idx, test_idx = next(splitter.split(X_norm, y_windows, groups=session_ids))\n",
    "\n",
    "X_train, X_test = X_norm[train_idx], X_norm[test_idx]\n",
    "y_train, y_test = y_windows[train_idx], y_windows[test_idx]"
   ]
  },
  {
   "cell_type": "code",
   "execution_count": null,
   "id": "bb94af9d",
   "metadata": {},
   "outputs": [
    {
     "data": {
      "text/plain": [
       "array([0.62626263, 0.63888889, 0.65306122, 0.63265306, 0.62244898])"
      ]
     },
     "execution_count": 15,
     "metadata": {},
     "output_type": "execute_result"
    }
   ],
   "source": [
    "from sklearn.model_selection import cross_val_score, GroupKFold\n",
    "from sklearn.inspection import permutation_importance\n",
    "from sklearn.linear_model import LogisticRegression\n",
    "cv = GroupKFold(n_splits=5)\n",
    "model = LogisticRegression(max_iter=1000)\n",
    "# Flatten the 3D windowed data to 2D\n",
    "n_samples, time_steps, n_feats = X_norm.shape\n",
    "X_flat = X_norm.reshape(n_samples, time_steps * n_feats)\n",
    "\n",
    "cross_val_score(model, X_flat, y_windows, groups=session_ids, cv=cv)\n"
   ]
  },
  {
   "cell_type": "code",
   "execution_count": null,
   "id": "1895822f",
   "metadata": {},
   "outputs": [],
   "source": []
  }
 ],
 "metadata": {
  "kernelspec": {
   "display_name": "Neurocheck",
   "language": "python",
   "name": "python3"
  },
  "language_info": {
   "codemirror_mode": {
    "name": "ipython",
    "version": 3
   },
   "file_extension": ".py",
   "mimetype": "text/x-python",
   "name": "python",
   "nbconvert_exporter": "python",
   "pygments_lexer": "ipython3",
   "version": "3.10.6"
  }
 },
 "nbformat": 4,
 "nbformat_minor": 5
}
