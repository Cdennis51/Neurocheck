{
 "cells": [
  {
   "cell_type": "markdown",
   "id": "b42c95dc",
   "metadata": {},
   "source": [
    "# Preprocessing"
   ]
  },
  {
   "cell_type": "markdown",
   "id": "90e77f7c",
   "metadata": {},
   "source": [
    "### Imports\n"
   ]
  },
  {
   "cell_type": "code",
   "execution_count": 32,
   "id": "f8c378be",
   "metadata": {},
   "outputs": [],
   "source": [
    "import pandas as pd\n",
    "import numpy as np\n",
    "from sklearn.preprocessing import MinMaxScaler\n",
    "from sklearn.model_selection import train_test_split"
   ]
  },
  {
   "cell_type": "code",
   "execution_count": 23,
   "id": "1bb26651",
   "metadata": {},
   "outputs": [],
   "source": [
    "#FILE PATH\n",
    "file_path = '/home/cdennis51/code/Cdennis51/Neurocheck/raw_data/mental_fatigue/MEFAR_preprocessed/MEFAR_preprocessed/MEFAR_MID.csv'\n",
    "df = pd.read_csv(file_path)"
   ]
  },
  {
   "cell_type": "markdown",
   "id": "d9ccb5ac",
   "metadata": {},
   "source": [
    "### Drop and assign columns "
   ]
  },
  {
   "cell_type": "code",
   "execution_count": 24,
   "id": "f68cee18",
   "metadata": {},
   "outputs": [
    {
     "name": "stdout",
     "output_type": "stream",
     "text": [
      "['BVP', 'EDA', 'TEMP', 'AccX', 'AccY', 'AccZ', 'HR', ' Delta', ' Theta', ' Alpha1', ' Alpha2', ' Beta1', ' Beta2', ' Gamma1', ' Gamma2', ' Attention', ' Meditation', 'class']\n"
     ]
    }
   ],
   "source": [
    "print(df.columns.tolist())\n",
    "df.columns = df.columns.str.strip()"
   ]
  },
  {
   "cell_type": "code",
   "execution_count": null,
   "id": "965816f0",
   "metadata": {},
   "outputs": [],
   "source": [
    "#eeg_columns = ['Delta', 'Theta', 'Alpha1', 'Alpha2', 'Beta1', 'Beta2', 'Gamma1', 'Gamma2']\n",
    "#X_eeg = df[eeg_columns].copy()\n",
    "#y = df['class']\n",
    "\n",
    "features = df.columns.drop('class')\n",
    "X= df[features].copy()\n",
    "y = df['class'].copy()"
   ]
  },
  {
   "cell_type": "markdown",
   "id": "ae3ce322",
   "metadata": {},
   "source": []
  },
  {
   "cell_type": "markdown",
   "id": "f17e0439",
   "metadata": {},
   "source": [
    "## Creating the windows"
   ]
  },
  {
   "cell_type": "code",
   "execution_count": 38,
   "id": "acb27400",
   "metadata": {},
   "outputs": [],
   "source": [
    "sampling_rate = 32\n",
    "window_seconds = 10\n",
    "window_size = sampling_rate * window_seconds\n",
    "stride = int(window_size*0.5)"
   ]
  },
  {
   "cell_type": "code",
   "execution_count": null,
   "id": "c8e71f21",
   "metadata": {},
   "outputs": [],
   "source": [
    "X_windows = []\n",
    "y_windows = []\n",
    "for start in range(0, len(X) - window_size +1, stride):\n",
    "    end = start + window_size\n",
    "    window =  X.iloc[start:end].values\n",
    "    label = y.iloc[end-1]\n",
    "    X_windows.append(window)\n",
    "    y_windows.append(label)\n",
    "\n",
    "X_windows = np.array(X_windows)\n",
    "y_windows = np.array(y_windows)"
   ]
  },
  {
   "cell_type": "code",
   "execution_count": 47,
   "id": "50fc91d0",
   "metadata": {},
   "outputs": [],
   "source": [
    "# not sure whether to normalise per window again maybe test and remove\n",
    "X_norm = np.array([MinMaxScaler().fit_transform(w) for w in X_windows])"
   ]
  },
  {
   "cell_type": "code",
   "execution_count": null,
   "id": "7159eac5",
   "metadata": {},
   "outputs": [
    {
     "name": "stdout",
     "output_type": "stream",
     "text": [
      "923298\n",
      "Window size: 320\n",
      "Stride: 160\n"
     ]
    }
   ],
   "source": [
    "print(len(X))\n",
    "print(\"Window size:\", window_size)\n",
    "print(\"Stride:\", stride)"
   ]
  },
  {
   "cell_type": "code",
   "execution_count": 49,
   "id": "6de11a22",
   "metadata": {},
   "outputs": [],
   "source": [
    "X_train, X_test, y_train, y_test = train_test_split(X_windows, y_windows, test_size = 0.2, stratify=y_windows, random_state=42)"
   ]
  },
  {
   "cell_type": "code",
   "execution_count": null,
   "id": "b2656c78",
   "metadata": {},
   "outputs": [],
   "source": []
  }
 ],
 "metadata": {
  "kernelspec": {
   "display_name": "Neurocheck",
   "language": "python",
   "name": "python3"
  },
  "language_info": {
   "codemirror_mode": {
    "name": "ipython",
    "version": 3
   },
   "file_extension": ".py",
   "mimetype": "text/x-python",
   "name": "python",
   "nbconvert_exporter": "python",
   "pygments_lexer": "ipython3",
   "version": "3.10.6"
  }
 },
 "nbformat": 4,
 "nbformat_minor": 5
}
